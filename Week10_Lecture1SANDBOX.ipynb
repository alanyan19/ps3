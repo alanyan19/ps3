{
 "cells": [
  {
   "cell_type": "markdown",
   "metadata": {},
   "source": [
    "# POLISCI 3 Fall 2021\n",
    "\n",
    "## Week 10 Sandbox Notebook"
   ]
  },
  {
   "cell_type": "code",
   "execution_count": null,
   "metadata": {},
   "outputs": [],
   "source": [
    "library(ggplot2)\n",
    "data <- read.csv('broockman_skovron.csv')\n",
    "head(data)"
   ]
  },
  {
   "cell_type": "markdown",
   "metadata": {},
   "source": [
    "Here is an overview of what the columns in the dataset represent: \n",
    "\n",
    "- `republican`: whether the state legislator or state legislative candidate who answered the survey was a Republican (1 = Republican, 0 = Democrat)\n",
    "- `incumbent`: whether the person who answered the survey was an incumbent representative (i.e., currently holds political office) (1 = already holds office, 0 = just a candidate)\n",
    "- `marriage_perception`: what percent of the politician's constituents they think support same-sex marriage\n",
    "- `marriage_opinion`: what percent of the politician's constituents actually support same-sex marriage\n",
    "- `religexempt_perception`: what percent of the politician's constituents they think support allowing employers to refuse to cover birth control for employees if it violates their religious beliefs\n",
    "- `religexempt_opinion`: what percent of the politician's constituents actually support allowing employers to refuse to cover birth control for employees if it violates their religious beliefs\n",
    "- `gunsbanassault_perception`: what percent of the politician's constituents they think support banning assault weapons\n",
    "- `gunsbanassault_opinion`: what percent of the politician's constituents actually support banning assault weapons"
   ]
  },
  {
   "cell_type": "code",
   "execution_count": null,
   "metadata": {
    "scrolled": true
   },
   "outputs": [],
   "source": [
    "# What is the average percent of the politician's constituents they think support banning assault weapons? \n",
    "# In other words, on average, how much support for banning assault weapons do politicians think there is?\n",
    "avg.politician.perception <- ...\n",
    "avg.politician.perception"
   ]
  },
  {
   "cell_type": "code",
   "execution_count": null,
   "metadata": {
    "scrolled": true
   },
   "outputs": [],
   "source": [
    "# What is the average support for banning assault weapons?\n",
    "avg.constitutent.support <- ...\n",
    "avg.constitutent.support"
   ]
  },
  {
   "cell_type": "code",
   "execution_count": null,
   "metadata": {
    "scrolled": true
   },
   "outputs": [],
   "source": [
    "# What is the AVERAGE difference between politicians' perceptions and constituent opinion?\n",
    "difference <- ...\n",
    "difference"
   ]
  },
  {
   "cell_type": "code",
   "execution_count": null,
   "metadata": {},
   "outputs": [],
   "source": [
    "# How do we figure out whether incumbents are better at knowing constituent opinion?\n",
    "incumbents <- ...\n",
    "difference.incumbents <- ...\n",
    "\n",
    "nonincumbents <- ...\n",
    "difference.nonincumbents <- ...\n",
    "\n",
    "difference.incumbents\n",
    "difference.nonincumbents"
   ]
  },
  {
   "cell_type": "code",
   "execution_count": null,
   "metadata": {
    "scrolled": true
   },
   "outputs": [],
   "source": [
    "# Plot the relationship between constituent opinion (x-axis) and politician's perceptions (y-axis)\n",
    "plot.gunban <- ...\n",
    "plot.gunban"
   ]
  },
  {
   "cell_type": "code",
   "execution_count": null,
   "metadata": {
    "scrolled": true
   },
   "outputs": [],
   "source": [
    "# Now, add a regression line and make sure the x-axis goes from 0 to 100\n",
    "plot.gunban.with.lm <- ...\n",
    "plot.gunban.with.lm"
   ]
  },
  {
   "cell_type": "code",
   "execution_count": null,
   "metadata": {
    "scrolled": true
   },
   "outputs": [],
   "source": [
    "# Let's compute the bivariate regression.\n",
    "..."
   ]
  },
  {
   "cell_type": "code",
   "execution_count": null,
   "metadata": {
    "scrolled": true
   },
   "outputs": [],
   "source": [
    "# How do we find the predicted level of politicians' perceptions of constituent support for the ban on assault weapons \n",
    "# when constituent support is at 75%?\n",
    "predicted.perception.75 <- ...\n",
    "predicted.perception.75"
   ]
  },
  {
   "cell_type": "code",
   "execution_count": null,
   "metadata": {
    "scrolled": true
   },
   "outputs": [],
   "source": [
    "# How do we find the predicted level of politicians' perceptions of constituent support the ban on assault weapons\n",
    "# when constituent support is one standard deviation above the mean?\n",
    "mean.plus.sd <- ...\n",
    "mean.plus.sd \n",
    "\n",
    "predicted.perception.mean.plus.sd <- ...\n",
    "predicted.perception.mean.plus.sd"
   ]
  },
  {
   "cell_type": "code",
   "execution_count": null,
   "metadata": {
    "scrolled": true
   },
   "outputs": [],
   "source": [
    "# How do we find the correlation?\n",
    "correlation <- ...\n",
    "correlation"
   ]
  },
  {
   "cell_type": "code",
   "execution_count": null,
   "metadata": {},
   "outputs": [],
   "source": []
  }
 ],
 "metadata": {
  "kernelspec": {
   "display_name": "R",
   "language": "R",
   "name": "ir"
  },
  "language_info": {
   "codemirror_mode": "r",
   "file_extension": ".r",
   "mimetype": "text/x-r-source",
   "name": "R",
   "pygments_lexer": "r",
   "version": "4.0.5"
  },
  "latex_envs": {
   "LaTeX_envs_menu_present": true,
   "autoclose": false,
   "autocomplete": true,
   "bibliofile": "biblio.bib",
   "cite_by": "apalike",
   "current_citInitial": 1,
   "eqLabelWithNumbers": true,
   "eqNumInitial": 1,
   "hotkeys": {
    "equation": "Ctrl-E",
    "itemize": "Ctrl-I"
   },
   "labels_anchors": false,
   "latex_user_defs": false,
   "report_style_numbering": false,
   "user_envs_cfg": false
  }
 },
 "nbformat": 4,
 "nbformat_minor": 4
}
