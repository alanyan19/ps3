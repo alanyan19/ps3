{
 "cells": [
  {
   "cell_type": "markdown",
   "id": "b1001354",
   "metadata": {},
   "source": [
    "# POLSCI 3 Fall 2021\n",
    "\n",
    "## Week 9, Lecture Notebook 2: Descriptive hypothesis testing"
   ]
  },
  {
   "cell_type": "code",
   "execution_count": 1,
   "id": "e752295f",
   "metadata": {
    "scrolled": false
   },
   "outputs": [
    {
     "data": {
      "text/html": [
       "<table class=\"dataframe\">\n",
       "<caption>A data.frame: 6 × 7</caption>\n",
       "<thead>\n",
       "\t<tr><th></th><th scope=col>vvweight_post</th><th scope=col>person_of_color</th><th scope=col>college</th><th scope=col>female</th><th scope=col>medicare_expand</th><th scope=col>vote_wait</th><th scope=col>votereg_problem</th></tr>\n",
       "\t<tr><th></th><th scope=col>&lt;dbl&gt;</th><th scope=col>&lt;int&gt;</th><th scope=col>&lt;int&gt;</th><th scope=col>&lt;int&gt;</th><th scope=col>&lt;int&gt;</th><th scope=col>&lt;int&gt;</th><th scope=col>&lt;int&gt;</th></tr>\n",
       "</thead>\n",
       "<tbody>\n",
       "\t<tr><th scope=row>1</th><td>0.6065928</td><td>0</td><td>1</td><td>0</td><td>0</td><td>NA</td><td>0</td></tr>\n",
       "\t<tr><th scope=row>2</th><td>0.5533137</td><td>1</td><td>1</td><td>0</td><td>1</td><td>NA</td><td>0</td></tr>\n",
       "\t<tr><th scope=row>3</th><td>0.9029812</td><td>0</td><td>0</td><td>1</td><td>1</td><td>NA</td><td>0</td></tr>\n",
       "\t<tr><th scope=row>4</th><td>0.8359022</td><td>0</td><td>1</td><td>1</td><td>1</td><td>15</td><td>0</td></tr>\n",
       "\t<tr><th scope=row>5</th><td>0.3900869</td><td>0</td><td>0</td><td>1</td><td>1</td><td>NA</td><td>0</td></tr>\n",
       "\t<tr><th scope=row>6</th><td>0.8777516</td><td>1</td><td>0</td><td>1</td><td>1</td><td> 0</td><td>0</td></tr>\n",
       "</tbody>\n",
       "</table>\n"
      ],
      "text/latex": [
       "A data.frame: 6 × 7\n",
       "\\begin{tabular}{r|lllllll}\n",
       "  & vvweight\\_post & person\\_of\\_color & college & female & medicare\\_expand & vote\\_wait & votereg\\_problem\\\\\n",
       "  & <dbl> & <int> & <int> & <int> & <int> & <int> & <int>\\\\\n",
       "\\hline\n",
       "\t1 & 0.6065928 & 0 & 1 & 0 & 0 & NA & 0\\\\\n",
       "\t2 & 0.5533137 & 1 & 1 & 0 & 1 & NA & 0\\\\\n",
       "\t3 & 0.9029812 & 0 & 0 & 1 & 1 & NA & 0\\\\\n",
       "\t4 & 0.8359022 & 0 & 1 & 1 & 1 & 15 & 0\\\\\n",
       "\t5 & 0.3900869 & 0 & 0 & 1 & 1 & NA & 0\\\\\n",
       "\t6 & 0.8777516 & 1 & 0 & 1 & 1 &  0 & 0\\\\\n",
       "\\end{tabular}\n"
      ],
      "text/markdown": [
       "\n",
       "A data.frame: 6 × 7\n",
       "\n",
       "| <!--/--> | vvweight_post &lt;dbl&gt; | person_of_color &lt;int&gt; | college &lt;int&gt; | female &lt;int&gt; | medicare_expand &lt;int&gt; | vote_wait &lt;int&gt; | votereg_problem &lt;int&gt; |\n",
       "|---|---|---|---|---|---|---|---|\n",
       "| 1 | 0.6065928 | 0 | 1 | 0 | 0 | NA | 0 |\n",
       "| 2 | 0.5533137 | 1 | 1 | 0 | 1 | NA | 0 |\n",
       "| 3 | 0.9029812 | 0 | 0 | 1 | 1 | NA | 0 |\n",
       "| 4 | 0.8359022 | 0 | 1 | 1 | 1 | 15 | 0 |\n",
       "| 5 | 0.3900869 | 0 | 0 | 1 | 1 | NA | 0 |\n",
       "| 6 | 0.8777516 | 1 | 0 | 1 | 1 |  0 | 0 |\n",
       "\n"
      ],
      "text/plain": [
       "  vvweight_post person_of_color college female medicare_expand vote_wait\n",
       "1 0.6065928     0               1       0      0               NA       \n",
       "2 0.5533137     1               1       0      1               NA       \n",
       "3 0.9029812     0               0       1      1               NA       \n",
       "4 0.8359022     0               1       1      1               15       \n",
       "5 0.3900869     0               0       1      1               NA       \n",
       "6 0.8777516     1               0       1      1                0       \n",
       "  votereg_problem\n",
       "1 0              \n",
       "2 0              \n",
       "3 0              \n",
       "4 0              \n",
       "5 0              \n",
       "6 0              "
      ]
     },
     "metadata": {},
     "output_type": "display_data"
    }
   ],
   "source": [
    "#import libraries\n",
    "library(estimatr)\n",
    "\n",
    "data <- read.csv(\"ps3_cces2020_post.csv\")\n",
    "head(data)"
   ]
  },
  {
   "cell_type": "code",
   "execution_count": 10,
   "id": "a69556e3",
   "metadata": {},
   "outputs": [
    {
     "data": {
      "text/html": [
       "<table class=\"dataframe\">\n",
       "<caption>A data.frame: 6 × 7</caption>\n",
       "<thead>\n",
       "\t<tr><th></th><th scope=col>vvweight_post</th><th scope=col>person_of_color</th><th scope=col>college</th><th scope=col>female</th><th scope=col>medicare_expand</th><th scope=col>vote_wait</th><th scope=col>votereg_problem</th></tr>\n",
       "\t<tr><th></th><th scope=col>&lt;dbl&gt;</th><th scope=col>&lt;int&gt;</th><th scope=col>&lt;int&gt;</th><th scope=col>&lt;int&gt;</th><th scope=col>&lt;int&gt;</th><th scope=col>&lt;int&gt;</th><th scope=col>&lt;int&gt;</th></tr>\n",
       "</thead>\n",
       "<tbody>\n",
       "\t<tr><th scope=row>10</th><td>1.432529</td><td>0</td><td>1</td><td>1</td><td>1</td><td>NA</td><td>0</td></tr>\n",
       "\t<tr><th scope=row>28</th><td>1.004049</td><td>0</td><td>1</td><td>1</td><td>1</td><td>NA</td><td>0</td></tr>\n",
       "\t<tr><th scope=row>31</th><td>1.620575</td><td>0</td><td>1</td><td>1</td><td>0</td><td>NA</td><td>0</td></tr>\n",
       "\t<tr><th scope=row>58</th><td>1.144624</td><td>0</td><td>1</td><td>1</td><td>0</td><td>NA</td><td>0</td></tr>\n",
       "\t<tr><th scope=row>70</th><td>1.239067</td><td>0</td><td>1</td><td>0</td><td>1</td><td>NA</td><td>0</td></tr>\n",
       "\t<tr><th scope=row>82</th><td>1.195659</td><td>0</td><td>1</td><td>1</td><td>1</td><td>NA</td><td>0</td></tr>\n",
       "</tbody>\n",
       "</table>\n"
      ],
      "text/latex": [
       "A data.frame: 6 × 7\n",
       "\\begin{tabular}{r|lllllll}\n",
       "  & vvweight\\_post & person\\_of\\_color & college & female & medicare\\_expand & vote\\_wait & votereg\\_problem\\\\\n",
       "  & <dbl> & <int> & <int> & <int> & <int> & <int> & <int>\\\\\n",
       "\\hline\n",
       "\t10 & 1.432529 & 0 & 1 & 1 & 1 & NA & 0\\\\\n",
       "\t28 & 1.004049 & 0 & 1 & 1 & 1 & NA & 0\\\\\n",
       "\t31 & 1.620575 & 0 & 1 & 1 & 0 & NA & 0\\\\\n",
       "\t58 & 1.144624 & 0 & 1 & 1 & 0 & NA & 0\\\\\n",
       "\t70 & 1.239067 & 0 & 1 & 0 & 1 & NA & 0\\\\\n",
       "\t82 & 1.195659 & 0 & 1 & 1 & 1 & NA & 0\\\\\n",
       "\\end{tabular}\n"
      ],
      "text/markdown": [
       "\n",
       "A data.frame: 6 × 7\n",
       "\n",
       "| <!--/--> | vvweight_post &lt;dbl&gt; | person_of_color &lt;int&gt; | college &lt;int&gt; | female &lt;int&gt; | medicare_expand &lt;int&gt; | vote_wait &lt;int&gt; | votereg_problem &lt;int&gt; |\n",
       "|---|---|---|---|---|---|---|---|\n",
       "| 10 | 1.432529 | 0 | 1 | 1 | 1 | NA | 0 |\n",
       "| 28 | 1.004049 | 0 | 1 | 1 | 1 | NA | 0 |\n",
       "| 31 | 1.620575 | 0 | 1 | 1 | 0 | NA | 0 |\n",
       "| 58 | 1.144624 | 0 | 1 | 1 | 0 | NA | 0 |\n",
       "| 70 | 1.239067 | 0 | 1 | 0 | 1 | NA | 0 |\n",
       "| 82 | 1.195659 | 0 | 1 | 1 | 1 | NA | 0 |\n",
       "\n"
      ],
      "text/plain": [
       "   vvweight_post person_of_color college female medicare_expand vote_wait\n",
       "10 1.432529      0               1       1      1               NA       \n",
       "28 1.004049      0               1       1      1               NA       \n",
       "31 1.620575      0               1       1      0               NA       \n",
       "58 1.144624      0               1       1      0               NA       \n",
       "70 1.239067      0               1       0      1               NA       \n",
       "82 1.195659      0               1       1      1               NA       \n",
       "   votereg_problem\n",
       "10 0              \n",
       "28 0              \n",
       "31 0              \n",
       "58 0              \n",
       "70 0              \n",
       "82 0              "
      ]
     },
     "metadata": {},
     "output_type": "display_data"
    }
   ],
   "source": [
    "head(data[data$vvweight_post > 1,])"
   ]
  },
  {
   "cell_type": "markdown",
   "id": "60fec234",
   "metadata": {},
   "source": [
    "Here's what the variables mean:\n",
    "\n",
    "- `vvweight_post`: Survey weight\n",
    "- `person_of_color`: `1` if person identifies as a person of color; `0` if person identifies as non-Hispanic white\n",
    "- `college`: `1` if the person graduated from college; `0` if the person did not\n",
    "- `female`: `1` if the person identifies as female; `0` otherwise\n",
    "- `medicare_expand`: `1` if the person favors expanding Medicare; `0` otherwise\n",
    "- `vote_wait`: How long someone said they had to wait to vote. Rounded to 0, 5, 15, 45, or 90 minutes. `NA` means missing (question was not asked), `difference_in_means()` will ignore these cases.\n",
    "- `votereg_problem`: Encountered a problem when they tried to vote (e.g., ID was rejected, didn't appear on voter registration list); `0` = no; `1` = yes"
   ]
  },
  {
   "cell_type": "code",
   "execution_count": 2,
   "id": "e689d4db",
   "metadata": {
    "scrolled": true
   },
   "outputs": [
    {
     "data": {
      "text/html": [
       "'71.2% of people support expanding Medicare when we do not include weights'"
      ],
      "text/latex": [
       "'71.2\\% of people support expanding Medicare when we do not include weights'"
      ],
      "text/markdown": [
       "'71.2% of people support expanding Medicare when we do not include weights'"
      ],
      "text/plain": [
       "[1] \"71.2% of people support expanding Medicare when we do not include weights\""
      ]
     },
     "metadata": {},
     "output_type": "display_data"
    },
    {
     "data": {
      "text/html": [
       "'68.2% of people support expanding Medicare when we include weights'"
      ],
      "text/latex": [
       "'68.2\\% of people support expanding Medicare when we include weights'"
      ],
      "text/markdown": [
       "'68.2% of people support expanding Medicare when we include weights'"
      ],
      "text/plain": [
       "[1] \"68.2% of people support expanding Medicare when we include weights\""
      ]
     },
     "metadata": {},
     "output_type": "display_data"
    }
   ],
   "source": [
    "# What percentage of people support expanding Medicare without and with weights?\n",
    "avg.medicare.support.unweighted <- mean(data$medicare_expand)\n",
    "avg.medicare.support.weighted <- weighted.mean(data$medicare_expand, \n",
    "                                              data$vvweight_post)\n",
    "\n",
    "paste0(round(avg.medicare.support.unweighted, 3)*100, \"% of people support expanding Medicare when we do not include weights\")\n",
    "paste0(round(avg.medicare.support.weighted, 3)*100, \"% of people support expanding Medicare when we include weights\")"
   ]
  },
  {
   "cell_type": "code",
   "execution_count": 3,
   "id": "9857942d",
   "metadata": {
    "scrolled": true
   },
   "outputs": [
    {
     "data": {
      "text/html": [
       "'79.9% of respondents of color preferred expanding Medicare, while 62.8% of white respondents did.'"
      ],
      "text/latex": [
       "'79.9\\% of respondents of color preferred expanding Medicare, while 62.8\\% of white respondents did.'"
      ],
      "text/markdown": [
       "'79.9% of respondents of color preferred expanding Medicare, while 62.8% of white respondents did.'"
      ],
      "text/plain": [
       "[1] \"79.9% of respondents of color preferred expanding Medicare, while 62.8% of white respondents did.\""
      ]
     },
     "metadata": {},
     "output_type": "display_data"
    }
   ],
   "source": [
    "# How does support for expanding Medicare vary by respondent's reported race? Let's use subset first.\n",
    "respondents.poc <- subset(data, person_of_color == 1)\n",
    "avg.medicare.support.weighted.poc <- weighted.mean(respondents.poc$medicare_expand,\n",
    "                                                  respondents.poc$vvweight_post)\n",
    "\n",
    "respondents.whites <- subset(data, person_of_color == 0)\n",
    "avg.medicare.support.weighted.whites <- weighted.mean(respondents.whites$medicare_expand,\n",
    "                                                     respondents.whites$vvweight_post)\n",
    "\n",
    "paste0(round(avg.medicare.support.weighted.poc, 3)*100, \"% of respondents of color preferred expanding Medicare, while \",\n",
    "      round(avg.medicare.support.weighted.whites, 3)*100, \"% of white respondents did.\")"
   ]
  },
  {
   "cell_type": "code",
   "execution_count": 9,
   "id": "de5d3449",
   "metadata": {
    "scrolled": true
   },
   "outputs": [
    {
     "data": {
      "text/plain": [
       "Design:  Standard (weighted) \n",
       "                 Estimate Std. Error  t value    Pr(>|t|)  CI Lower CI Upper\n",
       "person_of_color 0.1714916 0.01700832 10.08281 8.91319e-24 0.1381512 0.204832\n",
       "                  DF\n",
       "person_of_color 8621"
      ]
     },
     "metadata": {},
     "output_type": "display_data"
    }
   ],
   "source": [
    "# How do we do the same thing with the difference_in_means function?\n",
    "difference.in.support.for.medicare.expansion <- difference_in_means(\n",
    "    medicare_expand ~ person_of_color,\n",
    "    data,\n",
    "    weight = vvweight_post,\n",
    "    condition1 = 0,\n",
    "    condition2 = 1\n",
    ")\n",
    "difference.in.support.for.medicare.expansion"
   ]
  },
  {
   "cell_type": "code",
   "execution_count": 14,
   "id": "ef1e35f3",
   "metadata": {
    "scrolled": true
   },
   "outputs": [
    {
     "data": {
      "text/html": [
       "'On average, people waited 16.2101954828534 minutes to vote.'"
      ],
      "text/latex": [
       "'On average, people waited 16.2101954828534 minutes to vote.'"
      ],
      "text/markdown": [
       "'On average, people waited 16.2101954828534 minutes to vote.'"
      ],
      "text/plain": [
       "[1] \"On average, people waited 16.2101954828534 minutes to vote.\""
      ]
     },
     "metadata": {},
     "output_type": "display_data"
    },
    {
     "data": {
      "text/plain": [
       "Design:  Standard (weighted) \n",
       "         Estimate Std. Error   t value  Pr(>|t|)  CI Lower CI Upper   DF\n",
       "college 0.9156272   1.772851 0.5164716 0.6055861 -2.561347 4.392602 1870"
      ]
     },
     "metadata": {},
     "output_type": "display_data"
    }
   ],
   "source": [
    "# What was the average voting wait time? \n",
    "# And, using the difference_in_means function, how does it differ by college education?\n",
    "avg.wait.time <- weighted.mean(data$vote_wait, data$vvweight_post, na.rm = TRUE)\n",
    "difference.in.wait.time <- difference_in_means(\n",
    "    vote_wait ~ college,\n",
    "    data,\n",
    "    condition1 = 0,\n",
    "    condition2 = 1,\n",
    "    weight = vvweight_post\n",
    ")\n",
    "\n",
    "paste0(\"On average, people waited \", avg.wait.time, \" minutes to vote.\")\n",
    "difference.in.wait.time"
   ]
  },
  {
   "cell_type": "code",
   "execution_count": null,
   "id": "319fb11c",
   "metadata": {
    "scrolled": true
   },
   "outputs": [],
   "source": [
    "# WRITE YOUR OWN CODE HERE"
   ]
  },
  {
   "cell_type": "code",
   "execution_count": null,
   "id": "103662a5",
   "metadata": {
    "scrolled": true
   },
   "outputs": [],
   "source": [
    "# WRITE YOUR OWN CODE HERE"
   ]
  },
  {
   "cell_type": "code",
   "execution_count": null,
   "id": "b1be7d78",
   "metadata": {
    "scrolled": true
   },
   "outputs": [],
   "source": [
    "# WRITE YOUR OWN CODE HERE"
   ]
  }
 ],
 "metadata": {
  "kernelspec": {
   "display_name": "R",
   "language": "R",
   "name": "ir"
  },
  "language_info": {
   "codemirror_mode": "r",
   "file_extension": ".r",
   "mimetype": "text/x-r-source",
   "name": "R",
   "pygments_lexer": "r",
   "version": "4.0.5"
  },
  "latex_envs": {
   "LaTeX_envs_menu_present": true,
   "autoclose": false,
   "autocomplete": true,
   "bibliofile": "biblio.bib",
   "cite_by": "apalike",
   "current_citInitial": 1,
   "eqLabelWithNumbers": true,
   "eqNumInitial": 1,
   "hotkeys": {
    "equation": "Ctrl-E",
    "itemize": "Ctrl-I"
   },
   "labels_anchors": false,
   "latex_user_defs": false,
   "report_style_numbering": false,
   "user_envs_cfg": false
  }
 },
 "nbformat": 4,
 "nbformat_minor": 5
}
