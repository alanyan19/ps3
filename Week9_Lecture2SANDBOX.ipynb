{
 "cells": [
  {
   "cell_type": "markdown",
   "id": "b1001354",
   "metadata": {},
   "source": [
    "# POLSCI 3 Fall 2021\n",
    "\n",
    "## Week 9, Lecture Notebook 2: Descriptive hypothesis testing"
   ]
  },
  {
   "cell_type": "code",
   "execution_count": null,
   "id": "e752295f",
   "metadata": {
    "scrolled": false
   },
   "outputs": [],
   "source": [
    "#import libraries\n",
    "library(estimatr)\n",
    "\n",
    "data <- read.csv(\"ps3_cces2020_post.csv\")\n",
    "head(data)"
   ]
  },
  {
   "cell_type": "markdown",
   "id": "60fec234",
   "metadata": {},
   "source": [
    "Here's what the variables mean:\n",
    "\n",
    "- `vvweight_post`: Survey weight\n",
    "- `person_of_color`: `1` if person identifies as a person of color; `0` if person identifies as non-Hispanic white\n",
    "- `college`: `1` if the person graduated from college; `0` if the person did not\n",
    "- `female`: `1` if the person identifies as female; `0` otherwise\n",
    "- `medicare_expand`: `1` if the person favors expanding Medicare; `0` otherwise\n",
    "- `vote_wait`: How long someone said they had to wait to vote. Rounded to 0, 5, 15, 45, or 90 minutes. `NA` means missing (question was not asked), `difference_in_means()` will ignore these cases.\n",
    "- `votereg_problem`: Encountered a problem when they tried to vote (e.g., ID was rejected, didn't appear on voter registration list); `0` = no; `1` = yes"
   ]
  },
  {
   "cell_type": "code",
   "execution_count": null,
   "id": "e689d4db",
   "metadata": {
    "scrolled": true
   },
   "outputs": [],
   "source": [
    "# What percentage of people support expanding Medicare without and with weights?\n",
    "avg.medicare.support.unweighted <- ...\n",
    "avg.medicare.support.weighted <- ...\n",
    "\n",
    "paste0(round(avg.medicare.support.unweighted, 3)*100, \"% of people support expanding Medicare when we do not include weights\")\n",
    "paste0(round(avg.medicare.support.weighted, 3)*100, \"% of people support expanding Medicare when we include weights\")"
   ]
  },
  {
   "cell_type": "code",
   "execution_count": null,
   "id": "9857942d",
   "metadata": {
    "scrolled": true
   },
   "outputs": [],
   "source": [
    "# How does support for expanding Medicare vary by respondent's reported race? Let's use subset first.\n",
    "respondents.poc <- ...\n",
    "avg.medicare.support.weighted.poc <- ...\n",
    "\n",
    "respondents.whites <- ...\n",
    "avg.medicare.support.weighted.whites <- ...\n",
    "\n",
    "paste0(round(avg.medicare.support.weighted.poc, 3)*100, \"% of respondents of color preferred expanding Medicare, while \",\n",
    "      round(avg.medicare.support.weighted.whites, 3)*100 \" did.\")"
   ]
  },
  {
   "cell_type": "code",
   "execution_count": null,
   "id": "de5d3449",
   "metadata": {
    "scrolled": true
   },
   "outputs": [],
   "source": [
    "# How do we do the same thing with the difference_in_means function?\n",
    "difference.in.support.for.medicare.expansion <- ...\n",
    "difference.in.support.for.medicare.expansion"
   ]
  },
  {
   "cell_type": "code",
   "execution_count": null,
   "id": "ef1e35f3",
   "metadata": {
    "scrolled": true
   },
   "outputs": [],
   "source": [
    "# What was the average voting wait time? \n",
    "# And, using the difference_in_means function, how does it differ by college education?\n",
    "avg.wait.time <- ...\n",
    "difference.in.wait.time <- ...\n",
    "\n",
    "paste0(\"On average, people waited \", avg.wait.time, \" minutes to vote.\")\n",
    "difference.in.wait.time"
   ]
  },
  {
   "cell_type": "code",
   "execution_count": null,
   "id": "319fb11c",
   "metadata": {
    "scrolled": true
   },
   "outputs": [],
   "source": [
    "# WRITE YOUR OWN CODE HERE"
   ]
  },
  {
   "cell_type": "code",
   "execution_count": null,
   "id": "103662a5",
   "metadata": {
    "scrolled": true
   },
   "outputs": [],
   "source": [
    "# WRITE YOUR OWN CODE HERE"
   ]
  },
  {
   "cell_type": "code",
   "execution_count": null,
   "id": "b1be7d78",
   "metadata": {
    "scrolled": true
   },
   "outputs": [],
   "source": [
    "# WRITE YOUR OWN CODE HERE"
   ]
  }
 ],
 "metadata": {
  "kernelspec": {
   "display_name": "R",
   "language": "R",
   "name": "ir"
  },
  "language_info": {
   "codemirror_mode": "r",
   "file_extension": ".r",
   "mimetype": "text/x-r-source",
   "name": "R",
   "pygments_lexer": "r",
   "version": "4.0.5"
  },
  "latex_envs": {
   "LaTeX_envs_menu_present": true,
   "autoclose": false,
   "autocomplete": true,
   "bibliofile": "biblio.bib",
   "cite_by": "apalike",
   "current_citInitial": 1,
   "eqLabelWithNumbers": true,
   "eqNumInitial": 1,
   "hotkeys": {
    "equation": "Ctrl-E",
    "itemize": "Ctrl-I"
   },
   "labels_anchors": false,
   "latex_user_defs": false,
   "report_style_numbering": false,
   "user_envs_cfg": false
  }
 },
 "nbformat": 4,
 "nbformat_minor": 5
}
