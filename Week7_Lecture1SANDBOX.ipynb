{
 "cells": [
  {
   "cell_type": "markdown",
   "metadata": {},
   "source": [
    "# POLISCI 3 Fall 2021"
   ]
  },
  {
   "cell_type": "markdown",
   "metadata": {},
   "source": [
    "## Week 7 Lecture Notebook 1: SANDBOX"
   ]
  },
  {
   "cell_type": "code",
   "execution_count": 1,
   "metadata": {
    "scrolled": true
   },
   "outputs": [
    {
     "data": {
      "text/html": [
       "<table class=\"dataframe\">\n",
       "<caption>A data.frame: 6 × 6</caption>\n",
       "<thead>\n",
       "\t<tr><th></th><th scope=col>unique_id</th><th scope=col>treat</th><th scope=col>prop_sd_fem2014</th><th scope=col>sd_onefem2014</th><th scope=col>county</th><th scope=col>pc_male</th></tr>\n",
       "\t<tr><th></th><th scope=col>&lt;int&gt;</th><th scope=col>&lt;chr&gt;</th><th scope=col>&lt;dbl&gt;</th><th scope=col>&lt;int&gt;</th><th scope=col>&lt;chr&gt;</th><th scope=col>&lt;int&gt;</th></tr>\n",
       "</thead>\n",
       "<tbody>\n",
       "\t<tr><th scope=row>1</th><td>27215</td><td>supply </td><td>0.0</td><td>0</td><td>Grand  </td><td>1</td></tr>\n",
       "\t<tr><th scope=row>2</th><td>27386</td><td>control</td><td>0.0</td><td>0</td><td>Grand  </td><td>0</td></tr>\n",
       "\t<tr><th scope=row>3</th><td>27496</td><td>control</td><td>1.0</td><td>1</td><td>Grand  </td><td>1</td></tr>\n",
       "\t<tr><th scope=row>4</th><td>16202</td><td>demand </td><td>1.0</td><td>1</td><td>Daggett</td><td>1</td></tr>\n",
       "\t<tr><th scope=row>5</th><td>16241</td><td>control</td><td>0.5</td><td>1</td><td>Daggett</td><td>1</td></tr>\n",
       "\t<tr><th scope=row>6</th><td>26601</td><td>control</td><td>0.0</td><td>0</td><td>Emery  </td><td>1</td></tr>\n",
       "</tbody>\n",
       "</table>\n"
      ],
      "text/latex": [
       "A data.frame: 6 × 6\n",
       "\\begin{tabular}{r|llllll}\n",
       "  & unique\\_id & treat & prop\\_sd\\_fem2014 & sd\\_onefem2014 & county & pc\\_male\\\\\n",
       "  & <int> & <chr> & <dbl> & <int> & <chr> & <int>\\\\\n",
       "\\hline\n",
       "\t1 & 27215 & supply  & 0.0 & 0 & Grand   & 1\\\\\n",
       "\t2 & 27386 & control & 0.0 & 0 & Grand   & 0\\\\\n",
       "\t3 & 27496 & control & 1.0 & 1 & Grand   & 1\\\\\n",
       "\t4 & 16202 & demand  & 1.0 & 1 & Daggett & 1\\\\\n",
       "\t5 & 16241 & control & 0.5 & 1 & Daggett & 1\\\\\n",
       "\t6 & 26601 & control & 0.0 & 0 & Emery   & 1\\\\\n",
       "\\end{tabular}\n"
      ],
      "text/markdown": [
       "\n",
       "A data.frame: 6 × 6\n",
       "\n",
       "| <!--/--> | unique_id &lt;int&gt; | treat &lt;chr&gt; | prop_sd_fem2014 &lt;dbl&gt; | sd_onefem2014 &lt;int&gt; | county &lt;chr&gt; | pc_male &lt;int&gt; |\n",
       "|---|---|---|---|---|---|---|\n",
       "| 1 | 27215 | supply  | 0.0 | 0 | Grand   | 1 |\n",
       "| 2 | 27386 | control | 0.0 | 0 | Grand   | 0 |\n",
       "| 3 | 27496 | control | 1.0 | 1 | Grand   | 1 |\n",
       "| 4 | 16202 | demand  | 1.0 | 1 | Daggett | 1 |\n",
       "| 5 | 16241 | control | 0.5 | 1 | Daggett | 1 |\n",
       "| 6 | 26601 | control | 0.0 | 0 | Emery   | 1 |\n",
       "\n"
      ],
      "text/plain": [
       "  unique_id treat   prop_sd_fem2014 sd_onefem2014 county  pc_male\n",
       "1 27215     supply  0.0             0             Grand   1      \n",
       "2 27386     control 0.0             0             Grand   0      \n",
       "3 27496     control 1.0             1             Grand   1      \n",
       "4 16202     demand  1.0             1             Daggett 1      \n",
       "5 16241     control 0.5             1             Daggett 1      \n",
       "6 26601     control 0.0             0             Emery   1      "
      ]
     },
     "metadata": {},
     "output_type": "display_data"
    }
   ],
   "source": [
    "library(estimatr)\n",
    "library(ggplot2)\n",
    "data <- read.csv('ps3_week7_electing_women.csv')\n",
    "head(data)"
   ]
  },
  {
   "cell_type": "markdown",
   "metadata": {},
   "source": [
    "Here is a quick rundown of what each column means:\n",
    "\n",
    "- `unique_id`: Precinct ID\n",
    "- `treat`: treatment variable\n",
    "    - `'control'`: control group\n",
    "    - `'supply'`: supply group; party chair instructed to recruit 2-3 women\n",
    "    - `'demand'`: demand group; party chair reads letter at precinct convention\n",
    "    - `'both'`: a fourth group getting both the supply and demand treatments; party chair instructed to read letter *and* to recruit 2-3 women\n",
    "- `prop_sd_fem2014`: **Outcome**: Proportion of 2014 elected state delegates from that precinct who were women\n",
    "- `sd_onefem2014`: 1 if at least one woman was selected; 0 otherwise\n",
    "- `county` : County name in Utah\n",
    "- `pc_male`: 1 if precinct chair is male; 0 otherwise (precinct chair is person who runs precinct meeting, would read letter if assigned to do so, etc.)"
   ]
  },
  {
   "cell_type": "code",
   "execution_count": 2,
   "metadata": {},
   "outputs": [
    {
     "data": {
      "text/plain": [
       "\n",
       "   both control  demand  supply \n",
       "    427     435     426     446 "
      ]
     },
     "metadata": {},
     "output_type": "display_data"
    }
   ],
   "source": [
    "# And here's the values of the treatment variable again:\n",
    "table(data$treat)"
   ]
  },
  {
   "cell_type": "code",
   "execution_count": 3,
   "metadata": {
    "scrolled": true
   },
   "outputs": [
    {
     "data": {
      "text/plain": [
       "Design:  Standard \n",
       "              Estimate Std. Error  t value   Pr(>|t|)    CI Lower CI Upper\n",
       "treatsupply 0.06704809 0.03304681 2.028883 0.04277123 0.002188229 0.131908\n",
       "                  DF\n",
       "treatsupply 878.9986"
      ]
     },
     "metadata": {},
     "output_type": "display_data"
    }
   ],
   "source": [
    "#how do we find the treatment effect comparing control to supply?\n",
    "supply.effect <- difference_in_means(sd_onefem2014 ~ treat, data,\n",
    "                                    condition1 = \"control\",\n",
    "                                    condition2 = \"supply\")\n",
    "supply.effect"
   ]
  },
  {
   "cell_type": "code",
   "execution_count": 4,
   "metadata": {},
   "outputs": [],
   "source": [
    "#What's the difference between the treatment effect and the standard error?"
   ]
  },
  {
   "cell_type": "code",
   "execution_count": 5,
   "metadata": {},
   "outputs": [
    {
     "data": {
      "text/html": [
       "<strong>treatsupply:</strong> 0.0427712276726052"
      ],
      "text/latex": [
       "\\textbf{treatsupply:} 0.0427712276726052"
      ],
      "text/markdown": [
       "**treatsupply:** 0.0427712276726052"
      ],
      "text/plain": [
       "treatsupply \n",
       " 0.04277123 "
      ]
     },
     "metadata": {},
     "output_type": "display_data"
    }
   ],
   "source": [
    "supply.effect$p.value"
   ]
  },
  {
   "cell_type": "code",
   "execution_count": null,
   "metadata": {},
   "outputs": [],
   "source": [
    "# What does the p-value mean?"
   ]
  },
  {
   "cell_type": "code",
   "execution_count": null,
   "metadata": {},
   "outputs": [],
   "source": [
    "# Imagine we're talking to someone who wants to increase the number of women in politics.\n",
    "# How would we describe our finding above?"
   ]
  },
  {
   "cell_type": "code",
   "execution_count": 6,
   "metadata": {},
   "outputs": [
    {
     "data": {
      "text/html": [
       "0.00218822855051173"
      ],
      "text/latex": [
       "0.00218822855051173"
      ],
      "text/markdown": [
       "0.00218822855051173"
      ],
      "text/plain": [
       "[1] 0.002188229"
      ]
     },
     "metadata": {},
     "output_type": "display_data"
    },
    {
     "data": {
      "text/html": [
       "0.131907952058735"
      ],
      "text/latex": [
       "0.131907952058735"
      ],
      "text/markdown": [
       "0.131907952058735"
      ],
      "text/plain": [
       "[1] 0.131908"
      ]
     },
     "metadata": {},
     "output_type": "display_data"
    }
   ],
   "source": [
    "supply.effect$conf.low\n",
    "supply.effect$conf.high"
   ]
  },
  {
   "cell_type": "code",
   "execution_count": null,
   "metadata": {},
   "outputs": [],
   "source": [
    "# How should we interpret the lower confidence interval \n",
    "# and the higher confidence interval?"
   ]
  },
  {
   "cell_type": "code",
   "execution_count": 7,
   "metadata": {},
   "outputs": [],
   "source": [
    "# simulate estimates given the estimate and standard errors above\n",
    "simulations <- rnorm(n = 10000, mean = supply.effect$coefficients, sd = supply.effect$std.error)"
   ]
  },
  {
   "cell_type": "code",
   "execution_count": 8,
   "metadata": {},
   "outputs": [
    {
     "name": "stderr",
     "output_type": "stream",
     "text": [
      "`stat_bin()` using `bins = 30`. Pick better value with `binwidth`.\n",
      "\n"
     ]
    },
    {
     "data": {
      "image/png": "[encoded data removed]",
      "text/plain": [
       "plot without title"
      ]
     },
     "metadata": {
      "image/png": {
       "height": 420,
       "width": 420
      }
     },
     "output_type": "display_data"
    }
   ],
   "source": [
    "# 68.2% confidence intervals\n",
    "qplot(simulations) +\n",
    "    geom_vline(xintercept = supply.effect$coefficients + supply.effect$std.error, color = \"blue\") +\n",
    "    geom_vline(xintercept = supply.effect$coefficients - supply.effect$std.error, color = \"red\")"
   ]
  },
  {
   "cell_type": "code",
   "execution_count": 9,
   "metadata": {},
   "outputs": [
    {
     "name": "stderr",
     "output_type": "stream",
     "text": [
      "`stat_bin()` using `bins = 30`. Pick better value with `binwidth`.\n",
      "\n"
     ]
    },
    {
     "data": {
      "image/png": "[encoded data removed]",
      "text/plain": [
       "plot without title"
      ]
     },
     "metadata": {
      "image/png": {
       "height": 420,
       "width": 420
      }
     },
     "output_type": "display_data"
    }
   ],
   "source": [
    "# 95% confidence intervals\n",
    "qplot(simulations) +\n",
    "    geom_vline(xintercept = supply.effect$coefficients + 1.96*supply.effect$std.error, color = \"blue\") +\n",
    "    geom_vline(xintercept = supply.effect$coefficients - 1.96*supply.effect$std.error, color = \"red\")"
   ]
  },
  {
   "cell_type": "code",
   "execution_count": 10,
   "metadata": {},
   "outputs": [
    {
     "name": "stderr",
     "output_type": "stream",
     "text": [
      "`stat_bin()` using `bins = 30`. Pick better value with `binwidth`.\n",
      "\n"
     ]
    },
    {
     "data": {
      "image/png": "[encoded data removed]",
      "text/plain": [
       "plot without title"
      ]
     },
     "metadata": {
      "image/png": {
       "height": 420,
       "width": 420
      }
     },
     "output_type": "display_data"
    }
   ],
   "source": [
    "# 99.7% confidence intervals\n",
    "qplot(simulations) +\n",
    "    geom_vline(xintercept = supply.effect$coefficients + 3*supply.effect$std.error, color = \"blue\") +\n",
    "    geom_vline(xintercept = supply.effect$coefficients - 3*supply.effect$std.error, color = \"red\")"
   ]
  },
  {
   "cell_type": "code",
   "execution_count": null,
   "metadata": {},
   "outputs": [],
   "source": []
  }
 ],
 "metadata": {
  "kernelspec": {
   "display_name": "R",
   "language": "R",
   "name": "ir"
  },
  "language_info": {
   "codemirror_mode": "r",
   "file_extension": ".r",
   "mimetype": "text/x-r-source",
   "name": "R",
   "pygments_lexer": "r",
   "version": "4.0.5"
  }
 },
 "nbformat": 4,
 "nbformat_minor": 4
}
