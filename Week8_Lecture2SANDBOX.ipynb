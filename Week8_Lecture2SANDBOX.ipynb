{
 "cells": [
  {
   "cell_type": "markdown",
   "id": "b1001354",
   "metadata": {},
   "source": [
    "# POLSCI 3 Fall 2021\n",
    "\n",
    "## Week 8, Lecture Notebook 2: Generalizability"
   ]
  },
  {
   "cell_type": "code",
   "execution_count": null,
   "id": "e752295f",
   "metadata": {
    "scrolled": false
   },
   "outputs": [],
   "source": [
    "library(estimatr)\n",
    "library(ggplot2)\n",
    "\n",
    "data <- read.csv(\"ps3_KB_campaign.csv\")\n",
    "head(data)"
   ]
  },
  {
   "cell_type": "markdown",
   "id": "60fec234",
   "metadata": {},
   "source": [
    "In this dataset, every row is an experiment. The authors (me and Josh Kalla) collected information from previous experiments and collected it in this dataset for meta-analysis.\n",
    "\n",
    "Here is a quick rundown of what each column means:\n",
    "\n",
    "- `Experiment`: Paper reference of the experiment\n",
    "- `effect`: estimate of the effect size\n",
    "- `SE`: standard error of the effect estimate\n",
    "- `precision`: precision; this is how precise the experiment is. defined as $\\frac{1}{\\text{Standard Error}^2}$ (weights to be used)\n",
    "- `General`: binary variable indicating whether the experiment was done in a general election (1 = yes, 0 = no)\n",
    "- `Primary`: binary variable indicating whether the experiment was done in a primary election (1 = yes, 0 = no). these elections are typically quieter\n",
    "- `Treatment.within.2months.of.election`: binary variable incating whether the experiment took place within 2 months of election day (1 = yes, was within 2 months; 0 = no, was more than 2 months before election day)"
   ]
  },
  {
   "cell_type": "code",
   "execution_count": null,
   "id": "e2a6b1d0",
   "metadata": {},
   "outputs": [],
   "source": [
    "# Looking at the first two entries (Arceneaux 2007), which of the two experiments are more precise? Why?\n",
    "data[1:2,1:3]"
   ]
  },
  {
   "cell_type": "code",
   "execution_count": null,
   "id": "5c6ff874",
   "metadata": {},
   "outputs": [],
   "source": [
    "# How do we find the overall weighted effect?\n",
    "weighted.effect.overall <- weighted.mean(data$effect, data$precision)\n",
    "weighted.effect.overall"
   ]
  },
  {
   "cell_type": "code",
   "execution_count": null,
   "id": "9febdd45",
   "metadata": {},
   "outputs": [],
   "source": [
    "# I'm going to create standard errors for you all.\n",
    "simulations.overall <- c()\n",
    "for (i in 1:1000) {\n",
    "    temp.data <- data[sample(nrow(data), replace = TRUE),]\n",
    "    temp.weighted.effect <- weighted.mean(temp.data$effect, temp.data$precision)\n",
    "    simulations.overall <- append(simulations.overall, temp.weighted.effect)\n",
    "}\n",
    "standard.error.overall <- sd(simulations.overall)"
   ]
  },
  {
   "cell_type": "code",
   "execution_count": null,
   "id": "d4b954a6",
   "metadata": {},
   "outputs": [],
   "source": [
    "paste(\"The weighted average effect is\", weighted.effect.overall)\n",
    "\n",
    "paste(\"The standard deviation of the average effect is\", standard.error.overall)"
   ]
  },
  {
   "cell_type": "code",
   "execution_count": null,
   "id": "86757d2d",
   "metadata": {},
   "outputs": [],
   "source": [
    "# How do we find the weighted effect for experiments run within two months of election day?\n",
    "two.months.within.election.day <- subset(data, data$Treatment.within.2months.of.election == 1)\n",
    "head(two.months.within.election.day)"
   ]
  },
  {
   "cell_type": "code",
   "execution_count": null,
   "id": "6e7f5da7",
   "metadata": {},
   "outputs": [],
   "source": [
    "weighted.effect.two.months.within.election.day <- ...\n",
    "weighted.effect.two.months.within.election.day"
   ]
  },
  {
   "cell_type": "code",
   "execution_count": null,
   "id": "b2feb0d9",
   "metadata": {},
   "outputs": [],
   "source": [
    "# How do we find the weighted effect for experiments run before two months from election day?\n",
    "two.months.before.election.day <- subset(data, data$Treatment.within.2months.of.election == 0)\n",
    "head(two.months.before.election.day)"
   ]
  },
  {
   "cell_type": "code",
   "execution_count": null,
   "id": "396dc542",
   "metadata": {},
   "outputs": [],
   "source": [
    "weighted.effect.two.months.before.election.day <- ...\n",
    "weighted.effect.two.months.before.election.day"
   ]
  },
  {
   "cell_type": "code",
   "execution_count": null,
   "id": "98ecefce",
   "metadata": {},
   "outputs": [],
   "source": [
    "#I'm going to simulate the two effects for you all\n",
    "simulations.two.months.within <- c()\n",
    "for (i in 1:1000) {\n",
    "    temp.data <- two.months.within.election.day[sample(nrow(two.months.within.election.day), replace = TRUE),]\n",
    "    temp.weighted.effect <- weighted.mean(temp.data$effect, temp.data$precision)\n",
    "    simulations.two.months.within <- append(simulations.two.months.within, temp.weighted.effect)\n",
    "}\n",
    "\n",
    "simulations.two.months.before <- c()\n",
    "for (i in 1:1000) {\n",
    "    temp.data <- two.months.before.election.day[sample(nrow(two.months.before.election.day), replace = TRUE),]\n",
    "    temp.weighted.effect <- weighted.mean(temp.data$effect, temp.data$precision)\n",
    "    simulations.two.months.before <- append(simulations.two.months.before, temp.weighted.effect)\n",
    "}\n"
   ]
  },
  {
   "cell_type": "code",
   "execution_count": null,
   "id": "be85b517",
   "metadata": {},
   "outputs": [],
   "source": [
    "#merge the simulations together and label them\n",
    "plot.data <- data.frame(cbind(\n",
    "    c(\n",
    "        simulations.two.months.within,\n",
    "        simulations.two.months.before\n",
    "    ),\n",
    "    c(\n",
    "        rep(\"two months within\", 1000),\n",
    "        rep(\"two months before\", 1000)\n",
    "    )))\n",
    "plot.data$X1 <- as.numeric(plot.data$X1)"
   ]
  },
  {
   "cell_type": "code",
   "execution_count": null,
   "id": "45b02e15",
   "metadata": {},
   "outputs": [],
   "source": [
    "ggplot(plot.data, aes(x = X1, group = X2, fill = X2, alpha = 0.3)) +\n",
    "    geom_density() +\n",
    "    scale_x_continuous(limits = c(-1.5, 4))"
   ]
  },
  {
   "cell_type": "code",
   "execution_count": null,
   "id": "7e9b902a",
   "metadata": {},
   "outputs": [],
   "source": [
    "# to remind ourselves of the effect sizes:\n",
    "paste(\"Treating people within two months of the election has an effect of\", weighted.effect.two.months.within.election.day)\n",
    "\n",
    "paste(\"Treating people two months before the election has an effect of\", weighted.effect.two.months.before.election.day)"
   ]
  },
  {
   "cell_type": "code",
   "execution_count": null,
   "id": "9a9533e0",
   "metadata": {},
   "outputs": [],
   "source": []
  }
 ],
 "metadata": {
  "kernelspec": {
   "display_name": "R",
   "language": "R",
   "name": "ir"
  },
  "language_info": {
   "codemirror_mode": "r",
   "file_extension": ".r",
   "mimetype": "text/x-r-source",
   "name": "R",
   "pygments_lexer": "r",
   "version": "4.0.5"
  },
  "latex_envs": {
   "LaTeX_envs_menu_present": true,
   "autoclose": false,
   "autocomplete": true,
   "bibliofile": "biblio.bib",
   "cite_by": "apalike",
   "current_citInitial": 1,
   "eqLabelWithNumbers": true,
   "eqNumInitial": 1,
   "hotkeys": {
    "equation": "Ctrl-E",
    "itemize": "Ctrl-I"
   },
   "labels_anchors": false,
   "latex_user_defs": false,
   "report_style_numbering": false,
   "user_envs_cfg": false
  }
 },
 "nbformat": 4,
 "nbformat_minor": 5
}
