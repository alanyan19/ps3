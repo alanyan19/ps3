{
 "cells": [
  {
   "cell_type": "markdown",
   "id": "b1001354",
   "metadata": {},
   "source": [
    "# POLSCI 3 Fall 2021\n",
    "\n",
    "## Week 8, Lecture Notebook 2: Generalizability"
   ]
  },
  {
   "cell_type": "code",
   "execution_count": 1,
   "id": "e752295f",
   "metadata": {
    "scrolled": false
   },
   "outputs": [
    {
     "data": {
      "text/html": [
       "<table class=\"dataframe\">\n",
       "<caption>A data.frame: 6 × 7</caption>\n",
       "<thead>\n",
       "\t<tr><th></th><th scope=col>Experiment</th><th scope=col>SE</th><th scope=col>effect</th><th scope=col>precision</th><th scope=col>General</th><th scope=col>Primary</th><th scope=col>Treatment.within.2months.of.election</th></tr>\n",
       "\t<tr><th></th><th scope=col>&lt;chr&gt;</th><th scope=col>&lt;dbl&gt;</th><th scope=col>&lt;dbl&gt;</th><th scope=col>&lt;dbl&gt;</th><th scope=col>&lt;int&gt;</th><th scope=col>&lt;int&gt;</th><th scope=col>&lt;int&gt;</th></tr>\n",
       "</thead>\n",
       "<tbody>\n",
       "\t<tr><th scope=row>1</th><td>Arceneaux (2007)                 </td><td>19.0</td><td> 42.3</td><td>0.002770083</td><td>0</td><td>1</td><td>1</td></tr>\n",
       "\t<tr><th scope=row>2</th><td>Arceneaux (2007)                 </td><td>13.0</td><td> 18.3</td><td>0.005917160</td><td>0</td><td>1</td><td>1</td></tr>\n",
       "\t<tr><th scope=row>3</th><td>Arceneaux (2007)                 </td><td> 8.0</td><td> 18.6</td><td>0.015625000</td><td>0</td><td>1</td><td>1</td></tr>\n",
       "\t<tr><th scope=row>4</th><td>Arceneaux and Kolodny (2009)     </td><td>15.5</td><td>-30.0</td><td>0.004162331</td><td>1</td><td>0</td><td>1</td></tr>\n",
       "\t<tr><th scope=row>5</th><td>Arceneaux and Kolodny (2009)     </td><td>15.0</td><td>-22.0</td><td>0.004444444</td><td>1</td><td>0</td><td>1</td></tr>\n",
       "\t<tr><th scope=row>6</th><td>Bailey, Hopkins and Rogers (2016)</td><td> 5.3</td><td> -9.4</td><td>0.035599858</td><td>1</td><td>0</td><td>1</td></tr>\n",
       "</tbody>\n",
       "</table>\n"
      ],
      "text/latex": [
       "A data.frame: 6 × 7\n",
       "\\begin{tabular}{r|lllllll}\n",
       "  & Experiment & SE & effect & precision & General & Primary & Treatment.within.2months.of.election\\\\\n",
       "  & <chr> & <dbl> & <dbl> & <dbl> & <int> & <int> & <int>\\\\\n",
       "\\hline\n",
       "\t1 & Arceneaux (2007)                  & 19.0 &  42.3 & 0.002770083 & 0 & 1 & 1\\\\\n",
       "\t2 & Arceneaux (2007)                  & 13.0 &  18.3 & 0.005917160 & 0 & 1 & 1\\\\\n",
       "\t3 & Arceneaux (2007)                  &  8.0 &  18.6 & 0.015625000 & 0 & 1 & 1\\\\\n",
       "\t4 & Arceneaux and Kolodny (2009)      & 15.5 & -30.0 & 0.004162331 & 1 & 0 & 1\\\\\n",
       "\t5 & Arceneaux and Kolodny (2009)      & 15.0 & -22.0 & 0.004444444 & 1 & 0 & 1\\\\\n",
       "\t6 & Bailey, Hopkins and Rogers (2016) &  5.3 &  -9.4 & 0.035599858 & 1 & 0 & 1\\\\\n",
       "\\end{tabular}\n"
      ],
      "text/markdown": [
       "\n",
       "A data.frame: 6 × 7\n",
       "\n",
       "| <!--/--> | Experiment &lt;chr&gt; | SE &lt;dbl&gt; | effect &lt;dbl&gt; | precision &lt;dbl&gt; | General &lt;int&gt; | Primary &lt;int&gt; | Treatment.within.2months.of.election &lt;int&gt; |\n",
       "|---|---|---|---|---|---|---|---|\n",
       "| 1 | Arceneaux (2007)                  | 19.0 |  42.3 | 0.002770083 | 0 | 1 | 1 |\n",
       "| 2 | Arceneaux (2007)                  | 13.0 |  18.3 | 0.005917160 | 0 | 1 | 1 |\n",
       "| 3 | Arceneaux (2007)                  |  8.0 |  18.6 | 0.015625000 | 0 | 1 | 1 |\n",
       "| 4 | Arceneaux and Kolodny (2009)      | 15.5 | -30.0 | 0.004162331 | 1 | 0 | 1 |\n",
       "| 5 | Arceneaux and Kolodny (2009)      | 15.0 | -22.0 | 0.004444444 | 1 | 0 | 1 |\n",
       "| 6 | Bailey, Hopkins and Rogers (2016) |  5.3 |  -9.4 | 0.035599858 | 1 | 0 | 1 |\n",
       "\n"
      ],
      "text/plain": [
       "  Experiment                        SE   effect precision   General Primary\n",
       "1 Arceneaux (2007)                  19.0  42.3  0.002770083 0       1      \n",
       "2 Arceneaux (2007)                  13.0  18.3  0.005917160 0       1      \n",
       "3 Arceneaux (2007)                   8.0  18.6  0.015625000 0       1      \n",
       "4 Arceneaux and Kolodny (2009)      15.5 -30.0  0.004162331 1       0      \n",
       "5 Arceneaux and Kolodny (2009)      15.0 -22.0  0.004444444 1       0      \n",
       "6 Bailey, Hopkins and Rogers (2016)  5.3  -9.4  0.035599858 1       0      \n",
       "  Treatment.within.2months.of.election\n",
       "1 1                                   \n",
       "2 1                                   \n",
       "3 1                                   \n",
       "4 1                                   \n",
       "5 1                                   \n",
       "6 1                                   "
      ]
     },
     "metadata": {},
     "output_type": "display_data"
    }
   ],
   "source": [
    "library(estimatr)\n",
    "library(ggplot2)\n",
    "\n",
    "data <- read.csv(\"ps3_KB_campaign.csv\")\n",
    "head(data)"
   ]
  },
  {
   "cell_type": "markdown",
   "id": "60fec234",
   "metadata": {},
   "source": [
    "In this dataset, every row is an experiment. The authors (me and Josh Kalla) collected information from previous experiments and collected it in this dataset for meta-analysis.\n",
    "\n",
    "Here is a quick rundown of what each column means:\n",
    "\n",
    "- `Experiment`: Paper reference of the experiment\n",
    "- `effect`: estimate of the effect size\n",
    "- `SE`: standard error of the effect estimate\n",
    "- `precision`: precision; this is how precise the experiment is. defined as $\\frac{1}{\\text{Standard Error}^2}$ (weights to be used)\n",
    "- `General`: binary variable indicating whether the experiment was done in a general election (1 = yes, 0 = no)\n",
    "- `Primary`: binary variable indicating whether the experiment was done in a primary election (1 = yes, 0 = no). these elections are typically quieter\n",
    "- `Treatment.within.2months.of.election`: binary variable incating whether the experiment took place within 2 months of election day (1 = yes, was within 2 months; 0 = no, was more than 2 months before election day)"
   ]
  },
  {
   "cell_type": "code",
   "execution_count": 2,
   "id": "e2a6b1d0",
   "metadata": {},
   "outputs": [
    {
     "data": {
      "text/html": [
       "<table class=\"dataframe\">\n",
       "<caption>A data.frame: 2 × 3</caption>\n",
       "<thead>\n",
       "\t<tr><th></th><th scope=col>Experiment</th><th scope=col>SE</th><th scope=col>effect</th></tr>\n",
       "\t<tr><th></th><th scope=col>&lt;chr&gt;</th><th scope=col>&lt;dbl&gt;</th><th scope=col>&lt;dbl&gt;</th></tr>\n",
       "</thead>\n",
       "<tbody>\n",
       "\t<tr><th scope=row>1</th><td>Arceneaux (2007)</td><td>19</td><td>42.3</td></tr>\n",
       "\t<tr><th scope=row>2</th><td>Arceneaux (2007)</td><td>13</td><td>18.3</td></tr>\n",
       "</tbody>\n",
       "</table>\n"
      ],
      "text/latex": [
       "A data.frame: 2 × 3\n",
       "\\begin{tabular}{r|lll}\n",
       "  & Experiment & SE & effect\\\\\n",
       "  & <chr> & <dbl> & <dbl>\\\\\n",
       "\\hline\n",
       "\t1 & Arceneaux (2007) & 19 & 42.3\\\\\n",
       "\t2 & Arceneaux (2007) & 13 & 18.3\\\\\n",
       "\\end{tabular}\n"
      ],
      "text/markdown": [
       "\n",
       "A data.frame: 2 × 3\n",
       "\n",
       "| <!--/--> | Experiment &lt;chr&gt; | SE &lt;dbl&gt; | effect &lt;dbl&gt; |\n",
       "|---|---|---|---|\n",
       "| 1 | Arceneaux (2007) | 19 | 42.3 |\n",
       "| 2 | Arceneaux (2007) | 13 | 18.3 |\n",
       "\n"
      ],
      "text/plain": [
       "  Experiment       SE effect\n",
       "1 Arceneaux (2007) 19 42.3  \n",
       "2 Arceneaux (2007) 13 18.3  "
      ]
     },
     "metadata": {},
     "output_type": "display_data"
    }
   ],
   "source": [
    "# Looking at the first two entries (Arceneaux 2007), which of the two experiments are more precise? Why?\n",
    "data[1:2,1:3]"
   ]
  },
  {
   "cell_type": "code",
   "execution_count": 3,
   "id": "5c6ff874",
   "metadata": {},
   "outputs": [
    {
     "data": {
      "text/html": [
       "0.481742256853904"
      ],
      "text/latex": [
       "0.481742256853904"
      ],
      "text/markdown": [
       "0.481742256853904"
      ],
      "text/plain": [
       "[1] 0.4817423"
      ]
     },
     "metadata": {},
     "output_type": "display_data"
    }
   ],
   "source": [
    "# How do we find the overall weighted effect?\n",
    "weighted.effect.overall <- weighted.mean(data$effect, data$precision)\n",
    "weighted.effect.overall"
   ]
  },
  {
   "cell_type": "code",
   "execution_count": 4,
   "id": "9febdd45",
   "metadata": {},
   "outputs": [],
   "source": [
    "# I'm going to create standard errors for you all.\n",
    "simulations.overall <- c()\n",
    "for (i in 1:1000) {\n",
    "    temp.data <- data[sample(nrow(data), replace = TRUE),]\n",
    "    temp.weighted.effect <- weighted.mean(temp.data$effect, temp.data$precision)\n",
    "    simulations.overall <- append(simulations.overall, temp.weighted.effect)\n",
    "}\n",
    "standard.error.overall <- sd(simulations.overall)"
   ]
  },
  {
   "cell_type": "code",
   "execution_count": 5,
   "id": "d4b954a6",
   "metadata": {},
   "outputs": [
    {
     "data": {
      "text/html": [
       "'The weighted average effect is 0.481742256853904'"
      ],
      "text/latex": [
       "'The weighted average effect is 0.481742256853904'"
      ],
      "text/markdown": [
       "'The weighted average effect is 0.481742256853904'"
      ],
      "text/plain": [
       "[1] \"The weighted average effect is 0.481742256853904\""
      ]
     },
     "metadata": {},
     "output_type": "display_data"
    },
    {
     "data": {
      "text/html": [
       "'The standard deviation of the average effect is 0.287276119429183'"
      ],
      "text/latex": [
       "'The standard deviation of the average effect is 0.287276119429183'"
      ],
      "text/markdown": [
       "'The standard deviation of the average effect is 0.287276119429183'"
      ],
      "text/plain": [
       "[1] \"The standard deviation of the average effect is 0.287276119429183\""
      ]
     },
     "metadata": {},
     "output_type": "display_data"
    }
   ],
   "source": [
    "paste(\"The weighted average effect is\", weighted.effect.overall)\n",
    "\n",
    "paste(\"The standard deviation of the average effect is\", standard.error.overall)"
   ]
  },
  {
   "cell_type": "code",
   "execution_count": 6,
   "id": "86757d2d",
   "metadata": {},
   "outputs": [
    {
     "data": {
      "text/html": [
       "<table class=\"dataframe\">\n",
       "<caption>A data.frame: 6 × 7</caption>\n",
       "<thead>\n",
       "\t<tr><th></th><th scope=col>Experiment</th><th scope=col>SE</th><th scope=col>effect</th><th scope=col>precision</th><th scope=col>General</th><th scope=col>Primary</th><th scope=col>Treatment.within.2months.of.election</th></tr>\n",
       "\t<tr><th></th><th scope=col>&lt;chr&gt;</th><th scope=col>&lt;dbl&gt;</th><th scope=col>&lt;dbl&gt;</th><th scope=col>&lt;dbl&gt;</th><th scope=col>&lt;int&gt;</th><th scope=col>&lt;int&gt;</th><th scope=col>&lt;int&gt;</th></tr>\n",
       "</thead>\n",
       "<tbody>\n",
       "\t<tr><th scope=row>1</th><td>Arceneaux (2007)                 </td><td>19.0</td><td> 42.3</td><td>0.002770083</td><td>0</td><td>1</td><td>1</td></tr>\n",
       "\t<tr><th scope=row>2</th><td>Arceneaux (2007)                 </td><td>13.0</td><td> 18.3</td><td>0.005917160</td><td>0</td><td>1</td><td>1</td></tr>\n",
       "\t<tr><th scope=row>3</th><td>Arceneaux (2007)                 </td><td> 8.0</td><td> 18.6</td><td>0.015625000</td><td>0</td><td>1</td><td>1</td></tr>\n",
       "\t<tr><th scope=row>4</th><td>Arceneaux and Kolodny (2009)     </td><td>15.5</td><td>-30.0</td><td>0.004162331</td><td>1</td><td>0</td><td>1</td></tr>\n",
       "\t<tr><th scope=row>5</th><td>Arceneaux and Kolodny (2009)     </td><td>15.0</td><td>-22.0</td><td>0.004444444</td><td>1</td><td>0</td><td>1</td></tr>\n",
       "\t<tr><th scope=row>6</th><td>Bailey, Hopkins and Rogers (2016)</td><td> 5.3</td><td> -9.4</td><td>0.035599858</td><td>1</td><td>0</td><td>1</td></tr>\n",
       "</tbody>\n",
       "</table>\n"
      ],
      "text/latex": [
       "A data.frame: 6 × 7\n",
       "\\begin{tabular}{r|lllllll}\n",
       "  & Experiment & SE & effect & precision & General & Primary & Treatment.within.2months.of.election\\\\\n",
       "  & <chr> & <dbl> & <dbl> & <dbl> & <int> & <int> & <int>\\\\\n",
       "\\hline\n",
       "\t1 & Arceneaux (2007)                  & 19.0 &  42.3 & 0.002770083 & 0 & 1 & 1\\\\\n",
       "\t2 & Arceneaux (2007)                  & 13.0 &  18.3 & 0.005917160 & 0 & 1 & 1\\\\\n",
       "\t3 & Arceneaux (2007)                  &  8.0 &  18.6 & 0.015625000 & 0 & 1 & 1\\\\\n",
       "\t4 & Arceneaux and Kolodny (2009)      & 15.5 & -30.0 & 0.004162331 & 1 & 0 & 1\\\\\n",
       "\t5 & Arceneaux and Kolodny (2009)      & 15.0 & -22.0 & 0.004444444 & 1 & 0 & 1\\\\\n",
       "\t6 & Bailey, Hopkins and Rogers (2016) &  5.3 &  -9.4 & 0.035599858 & 1 & 0 & 1\\\\\n",
       "\\end{tabular}\n"
      ],
      "text/markdown": [
       "\n",
       "A data.frame: 6 × 7\n",
       "\n",
       "| <!--/--> | Experiment &lt;chr&gt; | SE &lt;dbl&gt; | effect &lt;dbl&gt; | precision &lt;dbl&gt; | General &lt;int&gt; | Primary &lt;int&gt; | Treatment.within.2months.of.election &lt;int&gt; |\n",
       "|---|---|---|---|---|---|---|---|\n",
       "| 1 | Arceneaux (2007)                  | 19.0 |  42.3 | 0.002770083 | 0 | 1 | 1 |\n",
       "| 2 | Arceneaux (2007)                  | 13.0 |  18.3 | 0.005917160 | 0 | 1 | 1 |\n",
       "| 3 | Arceneaux (2007)                  |  8.0 |  18.6 | 0.015625000 | 0 | 1 | 1 |\n",
       "| 4 | Arceneaux and Kolodny (2009)      | 15.5 | -30.0 | 0.004162331 | 1 | 0 | 1 |\n",
       "| 5 | Arceneaux and Kolodny (2009)      | 15.0 | -22.0 | 0.004444444 | 1 | 0 | 1 |\n",
       "| 6 | Bailey, Hopkins and Rogers (2016) |  5.3 |  -9.4 | 0.035599858 | 1 | 0 | 1 |\n",
       "\n"
      ],
      "text/plain": [
       "  Experiment                        SE   effect precision   General Primary\n",
       "1 Arceneaux (2007)                  19.0  42.3  0.002770083 0       1      \n",
       "2 Arceneaux (2007)                  13.0  18.3  0.005917160 0       1      \n",
       "3 Arceneaux (2007)                   8.0  18.6  0.015625000 0       1      \n",
       "4 Arceneaux and Kolodny (2009)      15.5 -30.0  0.004162331 1       0      \n",
       "5 Arceneaux and Kolodny (2009)      15.0 -22.0  0.004444444 1       0      \n",
       "6 Bailey, Hopkins and Rogers (2016)  5.3  -9.4  0.035599858 1       0      \n",
       "  Treatment.within.2months.of.election\n",
       "1 1                                   \n",
       "2 1                                   \n",
       "3 1                                   \n",
       "4 1                                   \n",
       "5 1                                   \n",
       "6 1                                   "
      ]
     },
     "metadata": {},
     "output_type": "display_data"
    }
   ],
   "source": [
    "# How do we find the weighted effect for experiments run within two months of election day?\n",
    "two.months.within.election.day <- subset(data, data$Treatment.within.2months.of.election == 1)\n",
    "head(two.months.within.election.day)"
   ]
  },
  {
   "cell_type": "code",
   "execution_count": 7,
   "id": "6e7f5da7",
   "metadata": {},
   "outputs": [
    {
     "data": {
      "text/html": [
       "0.432487632346352"
      ],
      "text/latex": [
       "0.432487632346352"
      ],
      "text/markdown": [
       "0.432487632346352"
      ],
      "text/plain": [
       "[1] 0.4324876"
      ]
     },
     "metadata": {},
     "output_type": "display_data"
    }
   ],
   "source": [
    "weighted.effect.two.months.within.election.day <- weighted.mean(two.months.within.election.day$effect, two.months.within.election.day$precision)\n",
    "weighted.effect.two.months.within.election.day"
   ]
  },
  {
   "cell_type": "code",
   "execution_count": 8,
   "id": "b2feb0d9",
   "metadata": {},
   "outputs": [
    {
     "data": {
      "text/html": [
       "<table class=\"dataframe\">\n",
       "<caption>A data.frame: 6 × 7</caption>\n",
       "<thead>\n",
       "\t<tr><th></th><th scope=col>Experiment</th><th scope=col>SE</th><th scope=col>effect</th><th scope=col>precision</th><th scope=col>General</th><th scope=col>Primary</th><th scope=col>Treatment.within.2months.of.election</th></tr>\n",
       "\t<tr><th></th><th scope=col>&lt;chr&gt;</th><th scope=col>&lt;dbl&gt;</th><th scope=col>&lt;dbl&gt;</th><th scope=col>&lt;dbl&gt;</th><th scope=col>&lt;int&gt;</th><th scope=col>&lt;int&gt;</th><th scope=col>&lt;int&gt;</th></tr>\n",
       "</thead>\n",
       "<tbody>\n",
       "\t<tr><th scope=row>15</th><td>Doherty and Adler (2014)     </td><td>0.96</td><td> 3.04</td><td>1.0850694</td><td>1</td><td>0</td><td>0</td></tr>\n",
       "\t<tr><th scope=row>16</th><td>Doherty and Adler (2014)     </td><td>2.06</td><td>-0.66</td><td>0.2356490</td><td>1</td><td>0</td><td>0</td></tr>\n",
       "\t<tr><th scope=row>24</th><td>Gerber et al. (2011b)        </td><td>1.77</td><td> 5.44</td><td>0.3191931</td><td>1</td><td>0</td><td>0</td></tr>\n",
       "\t<tr><th scope=row>25</th><td>Gerber et al. (2011b)        </td><td>1.42</td><td>-0.17</td><td>0.4959333</td><td>1</td><td>0</td><td>0</td></tr>\n",
       "\t<tr><th scope=row>27</th><td>Gerber et al. (2011b)        </td><td>5.99</td><td> 4.83</td><td>0.0278706</td><td>1</td><td>0</td><td>0</td></tr>\n",
       "\t<tr><th scope=row>39</th><td>Strauss (2009), Section 5.5.4</td><td>1.80</td><td> 1.00</td><td>0.3086420</td><td>1</td><td>0</td><td>0</td></tr>\n",
       "</tbody>\n",
       "</table>\n"
      ],
      "text/latex": [
       "A data.frame: 6 × 7\n",
       "\\begin{tabular}{r|lllllll}\n",
       "  & Experiment & SE & effect & precision & General & Primary & Treatment.within.2months.of.election\\\\\n",
       "  & <chr> & <dbl> & <dbl> & <dbl> & <int> & <int> & <int>\\\\\n",
       "\\hline\n",
       "\t15 & Doherty and Adler (2014)      & 0.96 &  3.04 & 1.0850694 & 1 & 0 & 0\\\\\n",
       "\t16 & Doherty and Adler (2014)      & 2.06 & -0.66 & 0.2356490 & 1 & 0 & 0\\\\\n",
       "\t24 & Gerber et al. (2011b)         & 1.77 &  5.44 & 0.3191931 & 1 & 0 & 0\\\\\n",
       "\t25 & Gerber et al. (2011b)         & 1.42 & -0.17 & 0.4959333 & 1 & 0 & 0\\\\\n",
       "\t27 & Gerber et al. (2011b)         & 5.99 &  4.83 & 0.0278706 & 1 & 0 & 0\\\\\n",
       "\t39 & Strauss (2009), Section 5.5.4 & 1.80 &  1.00 & 0.3086420 & 1 & 0 & 0\\\\\n",
       "\\end{tabular}\n"
      ],
      "text/markdown": [
       "\n",
       "A data.frame: 6 × 7\n",
       "\n",
       "| <!--/--> | Experiment &lt;chr&gt; | SE &lt;dbl&gt; | effect &lt;dbl&gt; | precision &lt;dbl&gt; | General &lt;int&gt; | Primary &lt;int&gt; | Treatment.within.2months.of.election &lt;int&gt; |\n",
       "|---|---|---|---|---|---|---|---|\n",
       "| 15 | Doherty and Adler (2014)      | 0.96 |  3.04 | 1.0850694 | 1 | 0 | 0 |\n",
       "| 16 | Doherty and Adler (2014)      | 2.06 | -0.66 | 0.2356490 | 1 | 0 | 0 |\n",
       "| 24 | Gerber et al. (2011b)         | 1.77 |  5.44 | 0.3191931 | 1 | 0 | 0 |\n",
       "| 25 | Gerber et al. (2011b)         | 1.42 | -0.17 | 0.4959333 | 1 | 0 | 0 |\n",
       "| 27 | Gerber et al. (2011b)         | 5.99 |  4.83 | 0.0278706 | 1 | 0 | 0 |\n",
       "| 39 | Strauss (2009), Section 5.5.4 | 1.80 |  1.00 | 0.3086420 | 1 | 0 | 0 |\n",
       "\n"
      ],
      "text/plain": [
       "   Experiment                    SE   effect precision General Primary\n",
       "15 Doherty and Adler (2014)      0.96  3.04  1.0850694 1       0      \n",
       "16 Doherty and Adler (2014)      2.06 -0.66  0.2356490 1       0      \n",
       "24 Gerber et al. (2011b)         1.77  5.44  0.3191931 1       0      \n",
       "25 Gerber et al. (2011b)         1.42 -0.17  0.4959333 1       0      \n",
       "27 Gerber et al. (2011b)         5.99  4.83  0.0278706 1       0      \n",
       "39 Strauss (2009), Section 5.5.4 1.80  1.00  0.3086420 1       0      \n",
       "   Treatment.within.2months.of.election\n",
       "15 0                                   \n",
       "16 0                                   \n",
       "24 0                                   \n",
       "25 0                                   \n",
       "27 0                                   \n",
       "39 0                                   "
      ]
     },
     "metadata": {},
     "output_type": "display_data"
    }
   ],
   "source": [
    "# How do we find the weighted effect for experiments run before two months from election day?\n",
    "two.months.before.election.day <- subset(data, data$Treatment.within.2months.of.election == 0)\n",
    "head(two.months.before.election.day)"
   ]
  },
  {
   "cell_type": "code",
   "execution_count": 9,
   "id": "396dc542",
   "metadata": {},
   "outputs": [
    {
     "data": {
      "text/html": [
       "0.712741265379679"
      ],
      "text/latex": [
       "0.712741265379679"
      ],
      "text/markdown": [
       "0.712741265379679"
      ],
      "text/plain": [
       "[1] 0.7127413"
      ]
     },
     "metadata": {},
     "output_type": "display_data"
    }
   ],
   "source": [
    "weighted.effect.two.months.before.election.day <- weighted.mean(two.months.before.election.day$effect, two.months.before.election.day$precision)\n",
    "weighted.effect.two.months.before.election.day"
   ]
  },
  {
   "cell_type": "code",
   "execution_count": 10,
   "id": "98ecefce",
   "metadata": {},
   "outputs": [],
   "source": [
    "#I'm going to simulate the two effects for you all\n",
    "simulations.two.months.within <- c()\n",
    "for (i in 1:1000) {\n",
    "    temp.data <- two.months.within.election.day[sample(nrow(two.months.within.election.day), replace = TRUE),]\n",
    "    temp.weighted.effect <- weighted.mean(temp.data$effect, temp.data$precision)\n",
    "    simulations.two.months.within <- append(simulations.two.months.within, temp.weighted.effect)\n",
    "}\n",
    "\n",
    "simulations.two.months.before <- c()\n",
    "for (i in 1:1000) {\n",
    "    temp.data <- two.months.before.election.day[sample(nrow(two.months.before.election.day), replace = TRUE),]\n",
    "    temp.weighted.effect <- weighted.mean(temp.data$effect, temp.data$precision)\n",
    "    simulations.two.months.before <- append(simulations.two.months.before, temp.weighted.effect)\n",
    "}\n"
   ]
  },
  {
   "cell_type": "code",
   "execution_count": 11,
   "id": "be85b517",
   "metadata": {},
   "outputs": [],
   "source": [
    "#merge the simulations together and label them\n",
    "plot.data <- data.frame(cbind(\n",
    "    c(\n",
    "        simulations.two.months.within,\n",
    "        simulations.two.months.before\n",
    "    ),\n",
    "    c(\n",
    "        rep(\"two months within\", 1000),\n",
    "        rep(\"two months before\", 1000)\n",
    "    )))\n",
    "plot.data$X1 <- as.numeric(plot.data$X1)"
   ]
  },
  {
   "cell_type": "code",
   "execution_count": 12,
   "id": "45b02e15",
   "metadata": {},
   "outputs": [
    {
     "data": {
      "image/png": "[encoded data removed]",
      "text/plain": [
       "plot without title"
      ]
     },
     "metadata": {
      "image/png": {
       "height": 420,
       "width": 420
      }
     },
     "output_type": "display_data"
    }
   ],
   "source": [
    "ggplot(plot.data, aes(x = X1, group = X2, fill = X2, alpha = 0.3)) +\n",
    "    geom_density() +\n",
    "    scale_x_continuous(limits = c(-1.5, 4))"
   ]
  },
  {
   "cell_type": "code",
   "execution_count": null,
   "id": "7e9b902a",
   "metadata": {},
   "outputs": [],
   "source": [
    "# to remind ourselves of the effect sizes:\n",
    "paste(\"Treating people within two months of the election has an effect of\", weighted.effect.two.months.within.election.day)\n",
    "\n",
    "paste(\"Treating people two months before the election has an effect of\", weighted.effect.two.months.before.election.day)"
   ]
  },
  {
   "cell_type": "code",
   "execution_count": null,
   "id": "9a9533e0",
   "metadata": {},
   "outputs": [],
   "source": []
  }
 ],
 "metadata": {
  "kernelspec": {
   "display_name": "R",
   "language": "R",
   "name": "ir"
  },
  "language_info": {
   "codemirror_mode": "r",
   "file_extension": ".r",
   "mimetype": "text/x-r-source",
   "name": "R",
   "pygments_lexer": "r",
   "version": "4.0.5"
  },
  "latex_envs": {
   "LaTeX_envs_menu_present": true,
   "autoclose": false,
   "autocomplete": true,
   "bibliofile": "biblio.bib",
   "cite_by": "apalike",
   "current_citInitial": 1,
   "eqLabelWithNumbers": true,
   "eqNumInitial": 1,
   "hotkeys": {
    "equation": "Ctrl-E",
    "itemize": "Ctrl-I"
   },
   "labels_anchors": false,
   "latex_user_defs": false,
   "report_style_numbering": false,
   "user_envs_cfg": false
  }
 },
 "nbformat": 4,
 "nbformat_minor": 5
}
