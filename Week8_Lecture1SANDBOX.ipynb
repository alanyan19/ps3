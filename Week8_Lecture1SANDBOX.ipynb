{
 "cells": [
  {
   "cell_type": "markdown",
   "id": "b1001354",
   "metadata": {},
   "source": [
    "# POLSCI 3 Fall 2021\n",
    "\n",
    "## Week 8, Lecture Notebook 1: Heterogenous Treatment Effects"
   ]
  },
  {
   "cell_type": "markdown",
   "id": "5884a021",
   "metadata": {},
   "source": [
    "For the first half of Week 8, we'll be using the same dataset as we did in Week 7, the data from the Utah Republican Party's experiment to increase the number of women who serve as precinct chairs.\n",
    "\n",
    "But, there's a new variable in the dataset."
   ]
  },
  {
   "cell_type": "code",
   "execution_count": 1,
   "id": "e752295f",
   "metadata": {
    "scrolled": false
   },
   "outputs": [
    {
     "data": {
      "text/html": [
       "<table class=\"dataframe\">\n",
       "<caption>A data.frame: 6 × 7</caption>\n",
       "<thead>\n",
       "\t<tr><th></th><th scope=col>unique_id</th><th scope=col>treat</th><th scope=col>prop_sd_fem2014</th><th scope=col>sd_onefem2014</th><th scope=col>county</th><th scope=col>pc_male</th><th scope=col>mormon</th></tr>\n",
       "\t<tr><th></th><th scope=col>&lt;int&gt;</th><th scope=col>&lt;chr&gt;</th><th scope=col>&lt;dbl&gt;</th><th scope=col>&lt;int&gt;</th><th scope=col>&lt;chr&gt;</th><th scope=col>&lt;int&gt;</th><th scope=col>&lt;int&gt;</th></tr>\n",
       "</thead>\n",
       "<tbody>\n",
       "\t<tr><th scope=row>1</th><td>27215</td><td>supply </td><td>0.0</td><td>0</td><td>Grand  </td><td>1</td><td>0</td></tr>\n",
       "\t<tr><th scope=row>2</th><td>27386</td><td>control</td><td>0.0</td><td>0</td><td>Grand  </td><td>0</td><td>0</td></tr>\n",
       "\t<tr><th scope=row>3</th><td>27496</td><td>control</td><td>1.0</td><td>1</td><td>Grand  </td><td>1</td><td>0</td></tr>\n",
       "\t<tr><th scope=row>4</th><td>16202</td><td>demand </td><td>1.0</td><td>1</td><td>Daggett</td><td>1</td><td>1</td></tr>\n",
       "\t<tr><th scope=row>5</th><td>16241</td><td>control</td><td>0.5</td><td>1</td><td>Daggett</td><td>1</td><td>0</td></tr>\n",
       "\t<tr><th scope=row>6</th><td>26601</td><td>control</td><td>0.0</td><td>0</td><td>Emery  </td><td>1</td><td>0</td></tr>\n",
       "</tbody>\n",
       "</table>\n"
      ],
      "text/latex": [
       "A data.frame: 6 × 7\n",
       "\\begin{tabular}{r|lllllll}\n",
       "  & unique\\_id & treat & prop\\_sd\\_fem2014 & sd\\_onefem2014 & county & pc\\_male & mormon\\\\\n",
       "  & <int> & <chr> & <dbl> & <int> & <chr> & <int> & <int>\\\\\n",
       "\\hline\n",
       "\t1 & 27215 & supply  & 0.0 & 0 & Grand   & 1 & 0\\\\\n",
       "\t2 & 27386 & control & 0.0 & 0 & Grand   & 0 & 0\\\\\n",
       "\t3 & 27496 & control & 1.0 & 1 & Grand   & 1 & 0\\\\\n",
       "\t4 & 16202 & demand  & 1.0 & 1 & Daggett & 1 & 1\\\\\n",
       "\t5 & 16241 & control & 0.5 & 1 & Daggett & 1 & 0\\\\\n",
       "\t6 & 26601 & control & 0.0 & 0 & Emery   & 1 & 0\\\\\n",
       "\\end{tabular}\n"
      ],
      "text/markdown": [
       "\n",
       "A data.frame: 6 × 7\n",
       "\n",
       "| <!--/--> | unique_id &lt;int&gt; | treat &lt;chr&gt; | prop_sd_fem2014 &lt;dbl&gt; | sd_onefem2014 &lt;int&gt; | county &lt;chr&gt; | pc_male &lt;int&gt; | mormon &lt;int&gt; |\n",
       "|---|---|---|---|---|---|---|---|\n",
       "| 1 | 27215 | supply  | 0.0 | 0 | Grand   | 1 | 0 |\n",
       "| 2 | 27386 | control | 0.0 | 0 | Grand   | 0 | 0 |\n",
       "| 3 | 27496 | control | 1.0 | 1 | Grand   | 1 | 0 |\n",
       "| 4 | 16202 | demand  | 1.0 | 1 | Daggett | 1 | 1 |\n",
       "| 5 | 16241 | control | 0.5 | 1 | Daggett | 1 | 0 |\n",
       "| 6 | 26601 | control | 0.0 | 0 | Emery   | 1 | 0 |\n",
       "\n"
      ],
      "text/plain": [
       "  unique_id treat   prop_sd_fem2014 sd_onefem2014 county  pc_male mormon\n",
       "1 27215     supply  0.0             0             Grand   1       0     \n",
       "2 27386     control 0.0             0             Grand   0       0     \n",
       "3 27496     control 1.0             1             Grand   1       0     \n",
       "4 16202     demand  1.0             1             Daggett 1       1     \n",
       "5 16241     control 0.5             1             Daggett 1       0     \n",
       "6 26601     control 0.0             0             Emery   1       0     "
      ]
     },
     "metadata": {},
     "output_type": "display_data"
    }
   ],
   "source": [
    "#import libraries\n",
    "library(estimatr)\n",
    "\n",
    "data <- read.csv(\"ps3_week8_electing_women.csv\")\n",
    "head(data)"
   ]
  },
  {
   "cell_type": "markdown",
   "id": "60fec234",
   "metadata": {},
   "source": [
    "Here is a quick reminder of what each column means:\n",
    "\n",
    "- `unique_id`: Precinct ID\n",
    "- `treat`: treatment variable\n",
    "    - `'control'`: control group\n",
    "    - `'supply'`: supply group; party chair instructed to recruit 2-3 women\n",
    "    - `'demand'`: demand group; party chair reads letter at precinct convention\n",
    "    - `'both'`: a fourth group getting both the supply and demand treatments; party chair instructed to read letter *and* to recruit 2-3 women\n",
    "- `prop_sd_fem2014`: **Outcome**: Proportion of 2014 elected state delegates from that precinct who were women\n",
    "- `sd_onefem2014`: **Outcome**: 1 if at least one woman was selected; 0 otherwise\n",
    "- `county` : County name in Utah\n",
    "- `pc_male`: 1 if precinct chair is male; 0 otherwise (precinct chair is person who runs precinct meeting, would read letter if assigned to do so, etc.)\n",
    "- `mormon`: 1 if precinct chair filled out a survey and told the party they were a Mormon; 0 otherwise (either because not Mormon or did not fill out survey) **<span style=\"color:red\">New variable!</span>**"
   ]
  },
  {
   "cell_type": "code",
   "execution_count": 2,
   "id": "10de684a",
   "metadata": {},
   "outputs": [
    {
     "data": {
      "text/plain": [
       "Design:  Standard \n",
       "              Estimate Std. Error  t value   Pr(>|t|)    CI Lower  CI Upper\n",
       "treatdemand 0.06420593 0.03342623 1.920825 0.05508527 -0.00140092 0.1298128\n",
       "                 DF\n",
       "treatdemand 857.146"
      ]
     },
     "metadata": {},
     "output_type": "display_data"
    }
   ],
   "source": [
    "#What's the effect of the demand treatment compared to control on having at least one woman elected for everyone?\n",
    "demand.effect.overall <- difference_in_means(sd_onefem2014 ~ treat,\n",
    "                                            data,\n",
    "                                            condition1 = \"control\",\n",
    "                                            condition2 = \"demand\")\n",
    "demand.effect.overall"
   ]
  },
  {
   "cell_type": "code",
   "execution_count": 3,
   "id": "4765dc74",
   "metadata": {},
   "outputs": [
    {
     "data": {
      "text/html": [
       "'The most pessimistic estimate among all precinct chairs is -0.00140092016951084'"
      ],
      "text/latex": [
       "'The most pessimistic estimate among all precinct chairs is -0.00140092016951084'"
      ],
      "text/markdown": [
       "'The most pessimistic estimate among all precinct chairs is -0.00140092016951084'"
      ],
      "text/plain": [
       "[1] \"The most pessimistic estimate among all precinct chairs is -0.00140092016951084\""
      ]
     },
     "metadata": {},
     "output_type": "display_data"
    },
    {
     "data": {
      "text/html": [
       "'The most optimistic estimate among all precinct chairs is 0.129812770582332'"
      ],
      "text/latex": [
       "'The most optimistic estimate among all precinct chairs is 0.129812770582332'"
      ],
      "text/markdown": [
       "'The most optimistic estimate among all precinct chairs is 0.129812770582332'"
      ],
      "text/plain": [
       "[1] \"The most optimistic estimate among all precinct chairs is 0.129812770582332\""
      ]
     },
     "metadata": {},
     "output_type": "display_data"
    },
    {
     "data": {
      "text/html": [
       "'The p-value for the estimate among all precinct chairs is 0.0550852661139768'"
      ],
      "text/latex": [
       "'The p-value for the estimate among all precinct chairs is 0.0550852661139768'"
      ],
      "text/markdown": [
       "'The p-value for the estimate among all precinct chairs is 0.0550852661139768'"
      ],
      "text/plain": [
       "[1] \"The p-value for the estimate among all precinct chairs is 0.0550852661139768\""
      ]
     },
     "metadata": {},
     "output_type": "display_data"
    }
   ],
   "source": [
    "# what do we type to find the most pessimistic and most optimistic estimates for the full sample? \n",
    "# what about the p value?\n",
    "demand.effect.overall.conf.low <- demand.effect.overall$conf.low\n",
    "paste(\"The most pessimistic estimate among all precinct chairs is\", demand.effect.overall.conf.low)\n",
    "\n",
    "demand.effect.overall.conf.high <- demand.effect.overall$conf.high\n",
    "paste(\"The most optimistic estimate among all precinct chairs is\", demand.effect.overall.conf.high)\n",
    "\n",
    "demand.effect.overall.p.value <- demand.effect.overall$p.value\n",
    "paste(\"The p-value for the estimate among all precinct chairs is\", demand.effect.overall.p.value)"
   ]
  },
  {
   "cell_type": "code",
   "execution_count": 4,
   "id": "bf4d7d31",
   "metadata": {
    "scrolled": false
   },
   "outputs": [
    {
     "data": {
      "text/html": [
       "<table class=\"dataframe\">\n",
       "<caption>A data.frame: 6 × 7</caption>\n",
       "<thead>\n",
       "\t<tr><th></th><th scope=col>unique_id</th><th scope=col>treat</th><th scope=col>prop_sd_fem2014</th><th scope=col>sd_onefem2014</th><th scope=col>county</th><th scope=col>pc_male</th><th scope=col>mormon</th></tr>\n",
       "\t<tr><th></th><th scope=col>&lt;int&gt;</th><th scope=col>&lt;chr&gt;</th><th scope=col>&lt;dbl&gt;</th><th scope=col>&lt;int&gt;</th><th scope=col>&lt;chr&gt;</th><th scope=col>&lt;int&gt;</th><th scope=col>&lt;int&gt;</th></tr>\n",
       "</thead>\n",
       "<tbody>\n",
       "\t<tr><th scope=row>1</th><td>27215</td><td>supply </td><td>0.0</td><td>0</td><td>Grand  </td><td>1</td><td>0</td></tr>\n",
       "\t<tr><th scope=row>3</th><td>27496</td><td>control</td><td>1.0</td><td>1</td><td>Grand  </td><td>1</td><td>0</td></tr>\n",
       "\t<tr><th scope=row>4</th><td>16202</td><td>demand </td><td>1.0</td><td>1</td><td>Daggett</td><td>1</td><td>1</td></tr>\n",
       "\t<tr><th scope=row>5</th><td>16241</td><td>control</td><td>0.5</td><td>1</td><td>Daggett</td><td>1</td><td>0</td></tr>\n",
       "\t<tr><th scope=row>6</th><td>26601</td><td>control</td><td>0.0</td><td>0</td><td>Emery  </td><td>1</td><td>0</td></tr>\n",
       "\t<tr><th scope=row>7</th><td>27551</td><td>demand </td><td>0.0</td><td>0</td><td>Grand  </td><td>1</td><td>0</td></tr>\n",
       "</tbody>\n",
       "</table>\n"
      ],
      "text/latex": [
       "A data.frame: 6 × 7\n",
       "\\begin{tabular}{r|lllllll}\n",
       "  & unique\\_id & treat & prop\\_sd\\_fem2014 & sd\\_onefem2014 & county & pc\\_male & mormon\\\\\n",
       "  & <int> & <chr> & <dbl> & <int> & <chr> & <int> & <int>\\\\\n",
       "\\hline\n",
       "\t1 & 27215 & supply  & 0.0 & 0 & Grand   & 1 & 0\\\\\n",
       "\t3 & 27496 & control & 1.0 & 1 & Grand   & 1 & 0\\\\\n",
       "\t4 & 16202 & demand  & 1.0 & 1 & Daggett & 1 & 1\\\\\n",
       "\t5 & 16241 & control & 0.5 & 1 & Daggett & 1 & 0\\\\\n",
       "\t6 & 26601 & control & 0.0 & 0 & Emery   & 1 & 0\\\\\n",
       "\t7 & 27551 & demand  & 0.0 & 0 & Grand   & 1 & 0\\\\\n",
       "\\end{tabular}\n"
      ],
      "text/markdown": [
       "\n",
       "A data.frame: 6 × 7\n",
       "\n",
       "| <!--/--> | unique_id &lt;int&gt; | treat &lt;chr&gt; | prop_sd_fem2014 &lt;dbl&gt; | sd_onefem2014 &lt;int&gt; | county &lt;chr&gt; | pc_male &lt;int&gt; | mormon &lt;int&gt; |\n",
       "|---|---|---|---|---|---|---|---|\n",
       "| 1 | 27215 | supply  | 0.0 | 0 | Grand   | 1 | 0 |\n",
       "| 3 | 27496 | control | 1.0 | 1 | Grand   | 1 | 0 |\n",
       "| 4 | 16202 | demand  | 1.0 | 1 | Daggett | 1 | 1 |\n",
       "| 5 | 16241 | control | 0.5 | 1 | Daggett | 1 | 0 |\n",
       "| 6 | 26601 | control | 0.0 | 0 | Emery   | 1 | 0 |\n",
       "| 7 | 27551 | demand  | 0.0 | 0 | Grand   | 1 | 0 |\n",
       "\n"
      ],
      "text/plain": [
       "  unique_id treat   prop_sd_fem2014 sd_onefem2014 county  pc_male mormon\n",
       "1 27215     supply  0.0             0             Grand   1       0     \n",
       "3 27496     control 1.0             1             Grand   1       0     \n",
       "4 16202     demand  1.0             1             Daggett 1       1     \n",
       "5 16241     control 0.5             1             Daggett 1       0     \n",
       "6 26601     control 0.0             0             Emery   1       0     \n",
       "7 27551     demand  0.0             0             Grand   1       0     "
      ]
     },
     "metadata": {},
     "output_type": "display_data"
    }
   ],
   "source": [
    "# Let's say we're interested in the effect of the demand treatment compared to control on having at least one woman elected \n",
    "# for only men precinct chairs\n",
    "data.men <- subset(data, pc_male == 1)\n",
    "head(data.men)"
   ]
  },
  {
   "cell_type": "code",
   "execution_count": 5,
   "id": "c311431a",
   "metadata": {},
   "outputs": [
    {
     "data": {
      "text/plain": [
       "Design:  Standard \n",
       "              Estimate Std. Error  t value   Pr(>|t|)    CI Lower  CI Upper\n",
       "treatdemand 0.07887238 0.03729767 2.114673 0.03483039 0.005636594 0.1521082\n",
       "                 DF\n",
       "treatdemand 662.984"
      ]
     },
     "metadata": {},
     "output_type": "display_data"
    }
   ],
   "source": [
    "demand.effect.men <- difference_in_means(sd_onefem2014 ~ treat,\n",
    "                                        data.men,\n",
    "                                        condition1 = \"control\",\n",
    "                                        condition2 = \"demand\")\n",
    "demand.effect.men"
   ]
  },
  {
   "cell_type": "code",
   "execution_count": 6,
   "id": "8e070977",
   "metadata": {
    "scrolled": false
   },
   "outputs": [
    {
     "data": {
      "text/html": [
       "<table class=\"dataframe\">\n",
       "<caption>A data.frame: 6 × 7</caption>\n",
       "<thead>\n",
       "\t<tr><th></th><th scope=col>unique_id</th><th scope=col>treat</th><th scope=col>prop_sd_fem2014</th><th scope=col>sd_onefem2014</th><th scope=col>county</th><th scope=col>pc_male</th><th scope=col>mormon</th></tr>\n",
       "\t<tr><th></th><th scope=col>&lt;int&gt;</th><th scope=col>&lt;chr&gt;</th><th scope=col>&lt;dbl&gt;</th><th scope=col>&lt;int&gt;</th><th scope=col>&lt;chr&gt;</th><th scope=col>&lt;int&gt;</th><th scope=col>&lt;int&gt;</th></tr>\n",
       "</thead>\n",
       "<tbody>\n",
       "\t<tr><th scope=row>2</th><td>27386</td><td>control</td><td>0</td><td>0</td><td>Grand </td><td>0</td><td>0</td></tr>\n",
       "\t<tr><th scope=row>12</th><td>27579</td><td>both   </td><td>1</td><td>1</td><td>Grand </td><td>0</td><td>0</td></tr>\n",
       "\t<tr><th scope=row>14</th><td>69702</td><td>control</td><td>0</td><td>0</td><td>Sevier</td><td>0</td><td>0</td></tr>\n",
       "\t<tr><th scope=row>22</th><td>69964</td><td>control</td><td>0</td><td>0</td><td>Sevier</td><td>0</td><td>0</td></tr>\n",
       "\t<tr><th scope=row>23</th><td>15077</td><td>control</td><td>1</td><td>1</td><td>Carbon</td><td>0</td><td>0</td></tr>\n",
       "\t<tr><th scope=row>24</th><td>69993</td><td>demand </td><td>1</td><td>1</td><td>Sevier</td><td>0</td><td>0</td></tr>\n",
       "</tbody>\n",
       "</table>\n"
      ],
      "text/latex": [
       "A data.frame: 6 × 7\n",
       "\\begin{tabular}{r|lllllll}\n",
       "  & unique\\_id & treat & prop\\_sd\\_fem2014 & sd\\_onefem2014 & county & pc\\_male & mormon\\\\\n",
       "  & <int> & <chr> & <dbl> & <int> & <chr> & <int> & <int>\\\\\n",
       "\\hline\n",
       "\t2 & 27386 & control & 0 & 0 & Grand  & 0 & 0\\\\\n",
       "\t12 & 27579 & both    & 1 & 1 & Grand  & 0 & 0\\\\\n",
       "\t14 & 69702 & control & 0 & 0 & Sevier & 0 & 0\\\\\n",
       "\t22 & 69964 & control & 0 & 0 & Sevier & 0 & 0\\\\\n",
       "\t23 & 15077 & control & 1 & 1 & Carbon & 0 & 0\\\\\n",
       "\t24 & 69993 & demand  & 1 & 1 & Sevier & 0 & 0\\\\\n",
       "\\end{tabular}\n"
      ],
      "text/markdown": [
       "\n",
       "A data.frame: 6 × 7\n",
       "\n",
       "| <!--/--> | unique_id &lt;int&gt; | treat &lt;chr&gt; | prop_sd_fem2014 &lt;dbl&gt; | sd_onefem2014 &lt;int&gt; | county &lt;chr&gt; | pc_male &lt;int&gt; | mormon &lt;int&gt; |\n",
       "|---|---|---|---|---|---|---|---|\n",
       "| 2 | 27386 | control | 0 | 0 | Grand  | 0 | 0 |\n",
       "| 12 | 27579 | both    | 1 | 1 | Grand  | 0 | 0 |\n",
       "| 14 | 69702 | control | 0 | 0 | Sevier | 0 | 0 |\n",
       "| 22 | 69964 | control | 0 | 0 | Sevier | 0 | 0 |\n",
       "| 23 | 15077 | control | 1 | 1 | Carbon | 0 | 0 |\n",
       "| 24 | 69993 | demand  | 1 | 1 | Sevier | 0 | 0 |\n",
       "\n"
      ],
      "text/plain": [
       "   unique_id treat   prop_sd_fem2014 sd_onefem2014 county pc_male mormon\n",
       "2  27386     control 0               0             Grand  0       0     \n",
       "12 27579     both    1               1             Grand  0       0     \n",
       "14 69702     control 0               0             Sevier 0       0     \n",
       "22 69964     control 0               0             Sevier 0       0     \n",
       "23 15077     control 1               1             Carbon 0       0     \n",
       "24 69993     demand  1               1             Sevier 0       0     "
      ]
     },
     "metadata": {},
     "output_type": "display_data"
    }
   ],
   "source": [
    "# Let's say we're interested in the effect of the demand treatment compared to control on having at least one woman elected\n",
    "# for only women precinct chairs\n",
    "data.women <- subset(data, pc_male == 0)\n",
    "head(data.women)"
   ]
  },
  {
   "cell_type": "code",
   "execution_count": 7,
   "id": "1c486fca",
   "metadata": {
    "scrolled": false
   },
   "outputs": [
    {
     "data": {
      "text/plain": [
       "Design:  Standard \n",
       "              Estimate Std. Error   t value  Pr(>|t|)   CI Lower  CI Upper\n",
       "treatdemand 0.02891515 0.07194012 0.4019336 0.6881831 -0.1129856 0.1708159\n",
       "                 DF\n",
       "treatdemand 190.659"
      ]
     },
     "metadata": {},
     "output_type": "display_data"
    }
   ],
   "source": [
    "demand.effect.women <- difference_in_means(sd_onefem2014 ~ treat,\n",
    "                                          data.women,\n",
    "                                          condition1 = \"control\",\n",
    "                                          condition2 = \"demand\")\n",
    "demand.effect.women"
   ]
  },
  {
   "cell_type": "code",
   "execution_count": 8,
   "id": "c7636c23",
   "metadata": {
    "scrolled": false
   },
   "outputs": [
    {
     "data": {
      "text/html": [
       "'The most pessimistic estimate among men precinct chairs is 0.00563659385258249'"
      ],
      "text/latex": [
       "'The most pessimistic estimate among men precinct chairs is 0.00563659385258249'"
      ],
      "text/markdown": [
       "'The most pessimistic estimate among men precinct chairs is 0.00563659385258249'"
      ],
      "text/plain": [
       "[1] \"The most pessimistic estimate among men precinct chairs is 0.00563659385258249\""
      ]
     },
     "metadata": {},
     "output_type": "display_data"
    },
    {
     "data": {
      "text/html": [
       "'The most optimistic estimate among men precinct chairs is 0.152108157608351'"
      ],
      "text/latex": [
       "'The most optimistic estimate among men precinct chairs is 0.152108157608351'"
      ],
      "text/markdown": [
       "'The most optimistic estimate among men precinct chairs is 0.152108157608351'"
      ],
      "text/plain": [
       "[1] \"The most optimistic estimate among men precinct chairs is 0.152108157608351\""
      ]
     },
     "metadata": {},
     "output_type": "display_data"
    },
    {
     "data": {
      "text/html": [
       "'The p-value for the estimate among men precinct chairs is 0.0348303911358822'"
      ],
      "text/latex": [
       "'The p-value for the estimate among men precinct chairs is 0.0348303911358822'"
      ],
      "text/markdown": [
       "'The p-value for the estimate among men precinct chairs is 0.0348303911358822'"
      ],
      "text/plain": [
       "[1] \"The p-value for the estimate among men precinct chairs is 0.0348303911358822\""
      ]
     },
     "metadata": {},
     "output_type": "display_data"
    }
   ],
   "source": [
    "# what do we type to find the most pessimistic and most optimistic estimates for the men sample? \n",
    "# what about the p value?\n",
    "demand.effect.men.conf.low <- demand.effect.men$conf.low\n",
    "paste(\"The most pessimistic estimate among men precinct chairs is\", demand.effect.men.conf.low)\n",
    "\n",
    "demand.effect.men.conf.high <- demand.effect.men$conf.high\n",
    "paste(\"The most optimistic estimate among men precinct chairs is\", demand.effect.men.conf.high)\n",
    "\n",
    "demand.effect.men.p.value <- demand.effect.men$p.value\n",
    "paste(\"The p-value for the estimate among men precinct chairs is\", demand.effect.men.p.value)"
   ]
  },
  {
   "cell_type": "code",
   "execution_count": 9,
   "id": "5d37b006",
   "metadata": {
    "scrolled": false
   },
   "outputs": [
    {
     "data": {
      "text/html": [
       "'The most pessimistic estimate among women precicnt chairs is -0.112985614349654'"
      ],
      "text/latex": [
       "'The most pessimistic estimate among women precicnt chairs is -0.112985614349654'"
      ],
      "text/markdown": [
       "'The most pessimistic estimate among women precicnt chairs is -0.112985614349654'"
      ],
      "text/plain": [
       "[1] \"The most pessimistic estimate among women precicnt chairs is -0.112985614349654\""
      ]
     },
     "metadata": {},
     "output_type": "display_data"
    },
    {
     "data": {
      "text/html": [
       "'The most optimistic estimate among women precicnt chairs is 0.170815922496552'"
      ],
      "text/latex": [
       "'The most optimistic estimate among women precicnt chairs is 0.170815922496552'"
      ],
      "text/markdown": [
       "'The most optimistic estimate among women precicnt chairs is 0.170815922496552'"
      ],
      "text/plain": [
       "[1] \"The most optimistic estimate among women precicnt chairs is 0.170815922496552\""
      ]
     },
     "metadata": {},
     "output_type": "display_data"
    },
    {
     "data": {
      "text/html": [
       "'The p-value for the estimate among women precicnt chairs is 0.688183065174919'"
      ],
      "text/latex": [
       "'The p-value for the estimate among women precicnt chairs is 0.688183065174919'"
      ],
      "text/markdown": [
       "'The p-value for the estimate among women precicnt chairs is 0.688183065174919'"
      ],
      "text/plain": [
       "[1] \"The p-value for the estimate among women precicnt chairs is 0.688183065174919\""
      ]
     },
     "metadata": {},
     "output_type": "display_data"
    }
   ],
   "source": [
    "# what do we type to find the most pessimistic and most optimistic estimates for the women sample? \n",
    "# what about the p value?\n",
    "demand.effect.women.conf.low <- demand.effect.women$conf.low\n",
    "paste(\"The most pessimistic estimate among women precicnt chairs is\", demand.effect.women.conf.low)\n",
    "\n",
    "demand.effect.women.conf.high <- demand.effect.women$conf.high\n",
    "paste(\"The most optimistic estimate among women precicnt chairs is\", demand.effect.women.conf.high)\n",
    "\n",
    "demand.effect.women.p.value <- demand.effect.women$p.value\n",
    "paste(\"The p-value for the estimate among women precicnt chairs is\", demand.effect.women.p.value)"
   ]
  },
  {
   "cell_type": "code",
   "execution_count": null,
   "id": "a70021c9",
   "metadata": {
    "scrolled": false
   },
   "outputs": [],
   "source": [
    "# YOUR CODE HERE"
   ]
  },
  {
   "cell_type": "code",
   "execution_count": null,
   "id": "2558f3a3",
   "metadata": {
    "scrolled": false
   },
   "outputs": [],
   "source": [
    "# YOUR CODE HERE"
   ]
  },
  {
   "cell_type": "code",
   "execution_count": null,
   "id": "f17f640a",
   "metadata": {
    "scrolled": false
   },
   "outputs": [],
   "source": [
    "# YOUR CODE HERE"
   ]
  }
 ],
 "metadata": {
  "kernelspec": {
   "display_name": "R",
   "language": "R",
   "name": "ir"
  },
  "language_info": {
   "codemirror_mode": "r",
   "file_extension": ".r",
   "mimetype": "text/x-r-source",
   "name": "R",
   "pygments_lexer": "r",
   "version": "4.0.5"
  },
  "latex_envs": {
   "LaTeX_envs_menu_present": true,
   "autoclose": false,
   "autocomplete": true,
   "bibliofile": "biblio.bib",
   "cite_by": "apalike",
   "current_citInitial": 1,
   "eqLabelWithNumbers": true,
   "eqNumInitial": 1,
   "hotkeys": {
    "equation": "Ctrl-E",
    "itemize": "Ctrl-I"
   },
   "labels_anchors": false,
   "latex_user_defs": false,
   "report_style_numbering": false,
   "user_envs_cfg": false
  }
 },
 "nbformat": 4,
 "nbformat_minor": 5
}
