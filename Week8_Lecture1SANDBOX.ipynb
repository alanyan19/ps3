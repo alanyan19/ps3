{
 "cells": [
  {
   "cell_type": "markdown",
   "id": "b1001354",
   "metadata": {},
   "source": [
    "# POLSCI 3 Fall 2021\n",
    "\n",
    "## Week 8, Lecture Notebook 1: Heterogenous Treatment Effects"
   ]
  },
  {
   "cell_type": "markdown",
   "id": "5884a021",
   "metadata": {},
   "source": [
    "For the first half of Week 8, we'll be using the same dataset as we did in Week 7, the data from the Utah Republican Party's experiment to increase the number of women who serve as precinct chairs.\n",
    "\n",
    "But, there's a new variable in the dataset."
   ]
  },
  {
   "cell_type": "code",
   "execution_count": null,
   "id": "e752295f",
   "metadata": {
    "scrolled": false
   },
   "outputs": [],
   "source": [
    "#import libraries\n",
    "library(estimatr)\n",
    "\n",
    "data <- read.csv(\"ps3_week8_electing_women.csv\")\n",
    "head(data)"
   ]
  },
  {
   "cell_type": "markdown",
   "id": "60fec234",
   "metadata": {},
   "source": [
    "Here is a quick reminder of what each column means:\n",
    "\n",
    "- `unique_id`: Precinct ID\n",
    "- `treat`: treatment variable\n",
    "    - `'control'`: control group\n",
    "    - `'supply'`: supply group; party chair instructed to recruit 2-3 women\n",
    "    - `'demand'`: demand group; party chair reads letter at precinct convention\n",
    "    - `'both'`: a fourth group getting both the supply and demand treatments; party chair instructed to read letter *and* to recruit 2-3 women\n",
    "- `prop_sd_fem2014`: **Outcome**: Proportion of 2014 elected state delegates from that precinct who were women\n",
    "- `sd_onefem2014`: **Outcome**: 1 if at least one woman was selected; 0 otherwise\n",
    "- `county` : County name in Utah\n",
    "- `pc_male`: 1 if precinct chair is male; 0 otherwise (precinct chair is person who runs precinct meeting, would read letter if assigned to do so, etc.)\n",
    "- `mormon`: 1 if precinct chair filled out a survey and told the party they were a Mormon; 0 otherwise (either because not Mormon or did not fill out survey) **<span style=\"color:red\">New variable!</span>**"
   ]
  },
  {
   "cell_type": "code",
   "execution_count": null,
   "id": "10de684a",
   "metadata": {},
   "outputs": [],
   "source": [
    "#What's the effect of the demand treatment compared to control on having at least one woman elected for everyone?\n",
    "demand.effect.overall <- ..."
   ]
  },
  {
   "cell_type": "code",
   "execution_count": null,
   "id": "4765dc74",
   "metadata": {},
   "outputs": [],
   "source": [
    "# what do we type to find the most pessimistic and most optimistic estimates for the full sample? \n",
    "# what about the p value?\n",
    "demand.effect.overall.conf.low <- ...\n",
    "paste(\"The most pessimistic estimate among all precicnt chairs is\", demand.effect.overall.conf.low)\n",
    "\n",
    "demand.effect.overall.conf.high <- ...\n",
    "paste(\"The most optimistic estimate among all precicnt chairs is\", demand.effect.overall.conf.high)\n",
    "\n",
    "demand.effect.overall.p.value <- ...\n",
    "paste(\"The p-value for the estimate among all precicnt chairs is\", demand.effect.overall.p.value)"
   ]
  },
  {
   "cell_type": "code",
   "execution_count": null,
   "id": "bf4d7d31",
   "metadata": {
    "scrolled": false
   },
   "outputs": [],
   "source": [
    "# Let's say we're interested in the effect of the demand treatment compared to control on having at least one woman elected \n",
    "# for only men precicnt chairs\n",
    "data.men <- ...\n",
    "head(data.men)"
   ]
  },
  {
   "cell_type": "code",
   "execution_count": null,
   "id": "c311431a",
   "metadata": {},
   "outputs": [],
   "source": [
    "demand.effect.men <- ...\n",
    "demand.effect.men"
   ]
  },
  {
   "cell_type": "code",
   "execution_count": null,
   "id": "8e070977",
   "metadata": {
    "scrolled": false
   },
   "outputs": [],
   "source": [
    "# Let's say we're interested in the effect of the demand treatment compared to control on having at least one woman elected\n",
    "# for only women precinct chairs\n",
    "data.women <- ...\n",
    "head(data.women)"
   ]
  },
  {
   "cell_type": "code",
   "execution_count": null,
   "id": "1c486fca",
   "metadata": {
    "scrolled": false
   },
   "outputs": [],
   "source": [
    "demand.effect.women <- ...\n",
    "demand.effect.women"
   ]
  },
  {
   "cell_type": "code",
   "execution_count": null,
   "id": "c7636c23",
   "metadata": {
    "scrolled": false
   },
   "outputs": [],
   "source": [
    "# what do we type to find the most pessimistic and most optimistic estimates for the men sample? \n",
    "# what about the p value?\n",
    "demand.effect.men.conf.low <- ...\n",
    "paste(\"The most pessimistic estimate among men precicnt chairs is\", demand.effect.men.conf.low)\n",
    "\n",
    "demand.effect.men.conf.high <- ...\n",
    "paste(\"The most optimistic estimate among men precicnt chairs is\", demand.effect.men.conf.high)\n",
    "\n",
    "demand.effect.men.p.value <- ...\n",
    "paste(\"The p-value for the estimate among men precicnt chairs is\", demand.effect.men.p.value)"
   ]
  },
  {
   "cell_type": "code",
   "execution_count": null,
   "id": "5d37b006",
   "metadata": {
    "scrolled": false
   },
   "outputs": [],
   "source": [
    "# what do we type to find the most pessimistic and most optimistic estimates for the women sample? \n",
    "# what about the p value?\n",
    "demand.effect.women.conf.low <- ...\n",
    "paste(\"The most pessimistic estimate among women precicnt chairs is\", demand.effect.women.conf.low)\n",
    "\n",
    "demand.effect.women.conf.high <- ...\n",
    "paste(\"The most optimistic estimate among women precicnt chairs is\", demand.effect.women.conf.high)\n",
    "\n",
    "demand.effect.women.p.value <- ...\n",
    "paste(\"The p-value for the estimate among women precicnt chairs is\", demand.effect.women.p.value)"
   ]
  },
  {
   "cell_type": "code",
   "execution_count": null,
   "id": "a70021c9",
   "metadata": {
    "scrolled": false
   },
   "outputs": [],
   "source": [
    "# YOUR CODE HERE"
   ]
  },
  {
   "cell_type": "code",
   "execution_count": null,
   "id": "2558f3a3",
   "metadata": {
    "scrolled": false
   },
   "outputs": [],
   "source": [
    "# YOUR CODE HERE"
   ]
  },
  {
   "cell_type": "code",
   "execution_count": null,
   "id": "f17f640a",
   "metadata": {
    "scrolled": false
   },
   "outputs": [],
   "source": [
    "# YOUR CODE HERE"
   ]
  }
 ],
 "metadata": {
  "kernelspec": {
   "display_name": "R",
   "language": "R",
   "name": "ir"
  },
  "language_info": {
   "codemirror_mode": "r",
   "file_extension": ".r",
   "mimetype": "text/x-r-source",
   "name": "R",
   "pygments_lexer": "r",
   "version": "4.0.5"
  },
  "latex_envs": {
   "LaTeX_envs_menu_present": true,
   "autoclose": false,
   "autocomplete": true,
   "bibliofile": "biblio.bib",
   "cite_by": "apalike",
   "current_citInitial": 1,
   "eqLabelWithNumbers": true,
   "eqNumInitial": 1,
   "hotkeys": {
    "equation": "Ctrl-E",
    "itemize": "Ctrl-I"
   },
   "labels_anchors": false,
   "latex_user_defs": false,
   "report_style_numbering": false,
   "user_envs_cfg": false
  }
 },
 "nbformat": 4,
 "nbformat_minor": 5
}
