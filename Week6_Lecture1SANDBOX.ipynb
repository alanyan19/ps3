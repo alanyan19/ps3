{
 "cells": [
  {
   "cell_type": "code",
   "execution_count": 2,
   "metadata": {
    "scrolled": false
   },
   "outputs": [
    {
     "data": {
      "text/html": [
       "<table class=\"dataframe\">\n",
       "<caption>A data.frame: 6 × 5</caption>\n",
       "<thead>\n",
       "\t<tr><th></th><th scope=col>caseid</th><th scope=col>supportgroup</th><th scope=col>treat</th><th scope=col>ally</th><th scope=col>female</th></tr>\n",
       "\t<tr><th></th><th scope=col>&lt;int&gt;</th><th scope=col>&lt;int&gt;</th><th scope=col>&lt;chr&gt;</th><th scope=col>&lt;dbl&gt;</th><th scope=col>&lt;int&gt;</th></tr>\n",
       "</thead>\n",
       "<tbody>\n",
       "\t<tr><th scope=row>1</th><td> 36</td><td>0</td><td>control</td><td>0.3333333</td><td>0</td></tr>\n",
       "\t<tr><th scope=row>2</th><td> 64</td><td>0</td><td>control</td><td>0.3333333</td><td>0</td></tr>\n",
       "\t<tr><th scope=row>3</th><td> 56</td><td>0</td><td>control</td><td>0.3333333</td><td>0</td></tr>\n",
       "\t<tr><th scope=row>4</th><td> 96</td><td>0</td><td>control</td><td>0.0000000</td><td>0</td></tr>\n",
       "\t<tr><th scope=row>5</th><td>101</td><td>0</td><td>control</td><td>0.0000000</td><td>0</td></tr>\n",
       "\t<tr><th scope=row>6</th><td> 82</td><td>0</td><td>control</td><td>0.0000000</td><td>1</td></tr>\n",
       "</tbody>\n",
       "</table>\n"
      ],
      "text/latex": [
       "A data.frame: 6 × 5\n",
       "\\begin{tabular}{r|lllll}\n",
       "  & caseid & supportgroup & treat & ally & female\\\\\n",
       "  & <int> & <int> & <chr> & <dbl> & <int>\\\\\n",
       "\\hline\n",
       "\t1 &  36 & 0 & control & 0.3333333 & 0\\\\\n",
       "\t2 &  64 & 0 & control & 0.3333333 & 0\\\\\n",
       "\t3 &  56 & 0 & control & 0.3333333 & 0\\\\\n",
       "\t4 &  96 & 0 & control & 0.0000000 & 0\\\\\n",
       "\t5 & 101 & 0 & control & 0.0000000 & 0\\\\\n",
       "\t6 &  82 & 0 & control & 0.0000000 & 1\\\\\n",
       "\\end{tabular}\n"
      ],
      "text/markdown": [
       "\n",
       "A data.frame: 6 × 5\n",
       "\n",
       "| <!--/--> | caseid &lt;int&gt; | supportgroup &lt;int&gt; | treat &lt;chr&gt; | ally &lt;dbl&gt; | female &lt;int&gt; |\n",
       "|---|---|---|---|---|---|\n",
       "| 1 |  36 | 0 | control | 0.3333333 | 0 |\n",
       "| 2 |  64 | 0 | control | 0.3333333 | 0 |\n",
       "| 3 |  56 | 0 | control | 0.3333333 | 0 |\n",
       "| 4 |  96 | 0 | control | 0.0000000 | 0 |\n",
       "| 5 | 101 | 0 | control | 0.0000000 | 0 |\n",
       "| 6 |  82 | 0 | control | 0.0000000 | 1 |\n",
       "\n"
      ],
      "text/plain": [
       "  caseid supportgroup treat   ally      female\n",
       "1  36    0            control 0.3333333 0     \n",
       "2  64    0            control 0.3333333 0     \n",
       "3  56    0            control 0.3333333 0     \n",
       "4  96    0            control 0.0000000 0     \n",
       "5 101    0            control 0.0000000 0     \n",
       "6  82    0            control 0.0000000 1     "
      ]
     },
     "metadata": {},
     "output_type": "display_data"
    }
   ],
   "source": [
    "library(estimatr)\n",
    "library(ggplot2)\n",
    "data <- read.csv('ps3_lobbying.csv')\n",
    "set.seed(123456789)\n",
    "head(data)"
   ]
  },
  {
   "cell_type": "markdown",
   "metadata": {},
   "source": [
    "Here is a quick reminder of what each column means:\n",
    "\n",
    "- `caseid`: Number that identifies each legislator/district\n",
    "- `supportgroup`: This is the *outcome*. It is a measure of whether the legislator agreed to list their name publicly as a \"sponsor\" of the bill.\n",
    "- `treat`: This is the *treatment*. It has several possible values:\n",
    "    - `\"control\"`: the office received no contact from the lobbyist\n",
    "    - `\"officelobby\"`: the legislator was asked to meet to discuss the bill in their office\n",
    "    - `\"sociallobby\"`: the legislator was asked to meet to discuss the bill at a social location (a restaurant or bar)\n",
    "- `ally`: The authors thought that social lobbying might be especially effective among legislators who had supported the group's priorities in the past. To measure this, they asked the lobbyist: \"In your opinion, how well does the phrase ‘ally of the interest group’ describe the legislator?\" This is therefore the lobbyists' rating of whether the legislator is an ally of the interest group (values 0, 1/3, 2/3, and 1).\n",
    "- `female` : legislator gender, 1 = legislator is female; 0 = not\n",
    "\n",
    "Again, here is what `treat` looks like:"
   ]
  },
  {
   "cell_type": "code",
   "execution_count": 3,
   "metadata": {},
   "outputs": [
    {
     "data": {
      "text/html": [
       "0.11617458279846"
      ],
      "text/latex": [
       "0.11617458279846"
      ],
      "text/markdown": [
       "0.11617458279846"
      ],
      "text/plain": [
       "[1] 0.1161746"
      ]
     },
     "metadata": {},
     "output_type": "display_data"
    }
   ],
   "source": [
    "# Function to re-randomize, or \"shuffle\", the treatment variable\n",
    "re.randomize <- function(input.data) {\n",
    "    input.data$treat <- sample(input.data$treat)\n",
    "    return(input.data)\n",
    "}\n",
    "\n",
    "# Function to compute the effect of social lobbying\n",
    "compute.social.lobby.effect <- function(input.data) {\n",
    "    estimate <- difference_in_means(supportgroup ~ treat, input.data,\n",
    "                                    condition1 = 'control', condition2 = 'sociallobby')$coefficients\n",
    "    return(as.numeric(estimate))\n",
    "}\n",
    "\n",
    "actual.estimate <- compute.social.lobby.effect(data)\n",
    "actual.estimate"
   ]
  },
  {
   "cell_type": "code",
   "execution_count": 4,
   "metadata": {},
   "outputs": [
    {
     "data": {
      "text/html": [
       "<table class=\"dataframe\">\n",
       "<caption>A data.frame: 6 × 5</caption>\n",
       "<thead>\n",
       "\t<tr><th></th><th scope=col>caseid</th><th scope=col>supportgroup</th><th scope=col>treat</th><th scope=col>ally</th><th scope=col>female</th></tr>\n",
       "\t<tr><th></th><th scope=col>&lt;int&gt;</th><th scope=col>&lt;int&gt;</th><th scope=col>&lt;chr&gt;</th><th scope=col>&lt;dbl&gt;</th><th scope=col>&lt;int&gt;</th></tr>\n",
       "</thead>\n",
       "<tbody>\n",
       "\t<tr><th scope=row>1</th><td> 36</td><td>0</td><td>control</td><td>0.3333333</td><td>0</td></tr>\n",
       "\t<tr><th scope=row>2</th><td> 64</td><td>0</td><td>control</td><td>0.3333333</td><td>0</td></tr>\n",
       "\t<tr><th scope=row>3</th><td> 56</td><td>0</td><td>control</td><td>0.3333333</td><td>0</td></tr>\n",
       "\t<tr><th scope=row>4</th><td> 96</td><td>0</td><td>control</td><td>0.0000000</td><td>0</td></tr>\n",
       "\t<tr><th scope=row>5</th><td>101</td><td>0</td><td>control</td><td>0.0000000</td><td>0</td></tr>\n",
       "\t<tr><th scope=row>6</th><td> 82</td><td>0</td><td>control</td><td>0.0000000</td><td>1</td></tr>\n",
       "</tbody>\n",
       "</table>\n"
      ],
      "text/latex": [
       "A data.frame: 6 × 5\n",
       "\\begin{tabular}{r|lllll}\n",
       "  & caseid & supportgroup & treat & ally & female\\\\\n",
       "  & <int> & <int> & <chr> & <dbl> & <int>\\\\\n",
       "\\hline\n",
       "\t1 &  36 & 0 & control & 0.3333333 & 0\\\\\n",
       "\t2 &  64 & 0 & control & 0.3333333 & 0\\\\\n",
       "\t3 &  56 & 0 & control & 0.3333333 & 0\\\\\n",
       "\t4 &  96 & 0 & control & 0.0000000 & 0\\\\\n",
       "\t5 & 101 & 0 & control & 0.0000000 & 0\\\\\n",
       "\t6 &  82 & 0 & control & 0.0000000 & 1\\\\\n",
       "\\end{tabular}\n"
      ],
      "text/markdown": [
       "\n",
       "A data.frame: 6 × 5\n",
       "\n",
       "| <!--/--> | caseid &lt;int&gt; | supportgroup &lt;int&gt; | treat &lt;chr&gt; | ally &lt;dbl&gt; | female &lt;int&gt; |\n",
       "|---|---|---|---|---|---|\n",
       "| 1 |  36 | 0 | control | 0.3333333 | 0 |\n",
       "| 2 |  64 | 0 | control | 0.3333333 | 0 |\n",
       "| 3 |  56 | 0 | control | 0.3333333 | 0 |\n",
       "| 4 |  96 | 0 | control | 0.0000000 | 0 |\n",
       "| 5 | 101 | 0 | control | 0.0000000 | 0 |\n",
       "| 6 |  82 | 0 | control | 0.0000000 | 1 |\n",
       "\n"
      ],
      "text/plain": [
       "  caseid supportgroup treat   ally      female\n",
       "1  36    0            control 0.3333333 0     \n",
       "2  64    0            control 0.3333333 0     \n",
       "3  56    0            control 0.3333333 0     \n",
       "4  96    0            control 0.0000000 0     \n",
       "5 101    0            control 0.0000000 0     \n",
       "6  82    0            control 0.0000000 1     "
      ]
     },
     "metadata": {},
     "output_type": "display_data"
    }
   ],
   "source": [
    "head(data)"
   ]
  },
  {
   "cell_type": "code",
   "execution_count": 5,
   "metadata": {},
   "outputs": [
    {
     "data": {
      "text/html": [
       "<table class=\"dataframe\">\n",
       "<caption>A data.frame: 6 × 5</caption>\n",
       "<thead>\n",
       "\t<tr><th></th><th scope=col>caseid</th><th scope=col>supportgroup</th><th scope=col>treat</th><th scope=col>ally</th><th scope=col>female</th></tr>\n",
       "\t<tr><th></th><th scope=col>&lt;int&gt;</th><th scope=col>&lt;int&gt;</th><th scope=col>&lt;chr&gt;</th><th scope=col>&lt;dbl&gt;</th><th scope=col>&lt;int&gt;</th></tr>\n",
       "</thead>\n",
       "<tbody>\n",
       "\t<tr><th scope=row>1</th><td> 36</td><td>0</td><td>sociallobby</td><td>0.3333333</td><td>0</td></tr>\n",
       "\t<tr><th scope=row>2</th><td> 64</td><td>0</td><td>officelobby</td><td>0.3333333</td><td>0</td></tr>\n",
       "\t<tr><th scope=row>3</th><td> 56</td><td>0</td><td>sociallobby</td><td>0.3333333</td><td>0</td></tr>\n",
       "\t<tr><th scope=row>4</th><td> 96</td><td>0</td><td>control    </td><td>0.0000000</td><td>0</td></tr>\n",
       "\t<tr><th scope=row>5</th><td>101</td><td>0</td><td>sociallobby</td><td>0.0000000</td><td>0</td></tr>\n",
       "\t<tr><th scope=row>6</th><td> 82</td><td>0</td><td>officelobby</td><td>0.0000000</td><td>1</td></tr>\n",
       "</tbody>\n",
       "</table>\n"
      ],
      "text/latex": [
       "A data.frame: 6 × 5\n",
       "\\begin{tabular}{r|lllll}\n",
       "  & caseid & supportgroup & treat & ally & female\\\\\n",
       "  & <int> & <int> & <chr> & <dbl> & <int>\\\\\n",
       "\\hline\n",
       "\t1 &  36 & 0 & sociallobby & 0.3333333 & 0\\\\\n",
       "\t2 &  64 & 0 & officelobby & 0.3333333 & 0\\\\\n",
       "\t3 &  56 & 0 & sociallobby & 0.3333333 & 0\\\\\n",
       "\t4 &  96 & 0 & control     & 0.0000000 & 0\\\\\n",
       "\t5 & 101 & 0 & sociallobby & 0.0000000 & 0\\\\\n",
       "\t6 &  82 & 0 & officelobby & 0.0000000 & 1\\\\\n",
       "\\end{tabular}\n"
      ],
      "text/markdown": [
       "\n",
       "A data.frame: 6 × 5\n",
       "\n",
       "| <!--/--> | caseid &lt;int&gt; | supportgroup &lt;int&gt; | treat &lt;chr&gt; | ally &lt;dbl&gt; | female &lt;int&gt; |\n",
       "|---|---|---|---|---|---|\n",
       "| 1 |  36 | 0 | sociallobby | 0.3333333 | 0 |\n",
       "| 2 |  64 | 0 | officelobby | 0.3333333 | 0 |\n",
       "| 3 |  56 | 0 | sociallobby | 0.3333333 | 0 |\n",
       "| 4 |  96 | 0 | control     | 0.0000000 | 0 |\n",
       "| 5 | 101 | 0 | sociallobby | 0.0000000 | 0 |\n",
       "| 6 |  82 | 0 | officelobby | 0.0000000 | 1 |\n",
       "\n"
      ],
      "text/plain": [
       "  caseid supportgroup treat       ally      female\n",
       "1  36    0            sociallobby 0.3333333 0     \n",
       "2  64    0            officelobby 0.3333333 0     \n",
       "3  56    0            sociallobby 0.3333333 0     \n",
       "4  96    0            control     0.0000000 0     \n",
       "5 101    0            sociallobby 0.0000000 0     \n",
       "6  82    0            officelobby 0.0000000 1     "
      ]
     },
     "metadata": {},
     "output_type": "display_data"
    }
   ],
   "source": [
    "head(re.randomize(data))"
   ]
  },
  {
   "cell_type": "code",
   "execution_count": 6,
   "metadata": {},
   "outputs": [
    {
     "data": {
      "text/html": [
       "<table class=\"dataframe\">\n",
       "<caption>A data.frame: 6 × 5</caption>\n",
       "<thead>\n",
       "\t<tr><th></th><th scope=col>caseid</th><th scope=col>supportgroup</th><th scope=col>treat</th><th scope=col>ally</th><th scope=col>female</th></tr>\n",
       "\t<tr><th></th><th scope=col>&lt;int&gt;</th><th scope=col>&lt;int&gt;</th><th scope=col>&lt;chr&gt;</th><th scope=col>&lt;dbl&gt;</th><th scope=col>&lt;int&gt;</th></tr>\n",
       "</thead>\n",
       "<tbody>\n",
       "\t<tr><th scope=row>1</th><td> 36</td><td>0</td><td>officelobby</td><td>0.3333333</td><td>0</td></tr>\n",
       "\t<tr><th scope=row>2</th><td> 64</td><td>0</td><td>sociallobby</td><td>0.3333333</td><td>0</td></tr>\n",
       "\t<tr><th scope=row>3</th><td> 56</td><td>0</td><td>sociallobby</td><td>0.3333333</td><td>0</td></tr>\n",
       "\t<tr><th scope=row>4</th><td> 96</td><td>0</td><td>control    </td><td>0.0000000</td><td>0</td></tr>\n",
       "\t<tr><th scope=row>5</th><td>101</td><td>0</td><td>officelobby</td><td>0.0000000</td><td>0</td></tr>\n",
       "\t<tr><th scope=row>6</th><td> 82</td><td>0</td><td>sociallobby</td><td>0.0000000</td><td>1</td></tr>\n",
       "</tbody>\n",
       "</table>\n"
      ],
      "text/latex": [
       "A data.frame: 6 × 5\n",
       "\\begin{tabular}{r|lllll}\n",
       "  & caseid & supportgroup & treat & ally & female\\\\\n",
       "  & <int> & <int> & <chr> & <dbl> & <int>\\\\\n",
       "\\hline\n",
       "\t1 &  36 & 0 & officelobby & 0.3333333 & 0\\\\\n",
       "\t2 &  64 & 0 & sociallobby & 0.3333333 & 0\\\\\n",
       "\t3 &  56 & 0 & sociallobby & 0.3333333 & 0\\\\\n",
       "\t4 &  96 & 0 & control     & 0.0000000 & 0\\\\\n",
       "\t5 & 101 & 0 & officelobby & 0.0000000 & 0\\\\\n",
       "\t6 &  82 & 0 & sociallobby & 0.0000000 & 1\\\\\n",
       "\\end{tabular}\n"
      ],
      "text/markdown": [
       "\n",
       "A data.frame: 6 × 5\n",
       "\n",
       "| <!--/--> | caseid &lt;int&gt; | supportgroup &lt;int&gt; | treat &lt;chr&gt; | ally &lt;dbl&gt; | female &lt;int&gt; |\n",
       "|---|---|---|---|---|---|\n",
       "| 1 |  36 | 0 | officelobby | 0.3333333 | 0 |\n",
       "| 2 |  64 | 0 | sociallobby | 0.3333333 | 0 |\n",
       "| 3 |  56 | 0 | sociallobby | 0.3333333 | 0 |\n",
       "| 4 |  96 | 0 | control     | 0.0000000 | 0 |\n",
       "| 5 | 101 | 0 | officelobby | 0.0000000 | 0 |\n",
       "| 6 |  82 | 0 | sociallobby | 0.0000000 | 1 |\n",
       "\n"
      ],
      "text/plain": [
       "  caseid supportgroup treat       ally      female\n",
       "1  36    0            officelobby 0.3333333 0     \n",
       "2  64    0            sociallobby 0.3333333 0     \n",
       "3  56    0            sociallobby 0.3333333 0     \n",
       "4  96    0            control     0.0000000 0     \n",
       "5 101    0            officelobby 0.0000000 0     \n",
       "6  82    0            sociallobby 0.0000000 1     "
      ]
     },
     "metadata": {},
     "output_type": "display_data"
    }
   ],
   "source": [
    "head(re.randomize(data))"
   ]
  },
  {
   "cell_type": "code",
   "execution_count": 7,
   "metadata": {},
   "outputs": [
    {
     "data": {
      "text/html": [
       "0.118100128369705"
      ],
      "text/latex": [
       "0.118100128369705"
      ],
      "text/markdown": [
       "0.118100128369705"
      ],
      "text/plain": [
       "[1] 0.1181001"
      ]
     },
     "metadata": {},
     "output_type": "display_data"
    },
    {
     "data": {
      "text/html": [
       "-0.0603337612323492"
      ],
      "text/latex": [
       "-0.0603337612323492"
      ],
      "text/markdown": [
       "-0.0603337612323492"
      ],
      "text/plain": [
       "[1] -0.06033376"
      ]
     },
     "metadata": {},
     "output_type": "display_data"
    },
    {
     "data": {
      "text/html": [
       "0.0410783055198973"
      ],
      "text/latex": [
       "0.0410783055198973"
      ],
      "text/markdown": [
       "0.0410783055198973"
      ],
      "text/plain": [
       "[1] 0.04107831"
      ]
     },
     "metadata": {},
     "output_type": "display_data"
    }
   ],
   "source": [
    "compute.social.lobby.effect(re.randomize(data))\n",
    "compute.social.lobby.effect(re.randomize(data))\n",
    "compute.social.lobby.effect(re.randomize(data))"
   ]
  },
  {
   "cell_type": "code",
   "execution_count": 9,
   "metadata": {},
   "outputs": [],
   "source": [
    "simulations.20000 <- replicate(20000, compute.social.lobby.effect(re.randomize(data)))"
   ]
  },
  {
   "cell_type": "code",
   "execution_count": 10,
   "metadata": {},
   "outputs": [
    {
     "data": {
      "text/html": [
       "<style>\n",
       ".list-inline {list-style: none; margin:0; padding: 0}\n",
       ".list-inline>li {display: inline-block}\n",
       ".list-inline>li:not(:last-child)::after {content: \"\\00b7\"; padding: 0 .5ex}\n",
       "</style>\n",
       "<ol class=list-inline><li>0.0186136071887035</li><li>-0.0115532734274711</li><li>-0.0359435173299101</li><li>-0.0115532734274711</li><li>0.0166880616174583</li><li>0.0430038510911425</li></ol>\n"
      ],
      "text/latex": [
       "\\begin{enumerate*}\n",
       "\\item 0.0186136071887035\n",
       "\\item -0.0115532734274711\n",
       "\\item -0.0359435173299101\n",
       "\\item -0.0115532734274711\n",
       "\\item 0.0166880616174583\n",
       "\\item 0.0430038510911425\n",
       "\\end{enumerate*}\n"
      ],
      "text/markdown": [
       "1. 0.0186136071887035\n",
       "2. -0.0115532734274711\n",
       "3. -0.0359435173299101\n",
       "4. -0.0115532734274711\n",
       "5. 0.0166880616174583\n",
       "6. 0.0430038510911425\n",
       "\n",
       "\n"
      ],
      "text/plain": [
       "[1]  0.01861361 -0.01155327 -0.03594352 -0.01155327  0.01668806  0.04300385"
      ]
     },
     "metadata": {},
     "output_type": "display_data"
    }
   ],
   "source": [
    "head(simulations.20000)"
   ]
  },
  {
   "cell_type": "code",
   "execution_count": 11,
   "metadata": {},
   "outputs": [
    {
     "data": {
      "image/png": "[encoded data removed]",
      "text/plain": [
       "plot without title"
      ]
     },
     "metadata": {
      "image/png": {
       "height": 420,
       "width": 420
      }
     },
     "output_type": "display_data"
    }
   ],
   "source": [
    "qplot(simulations.20000, binwidth = .025) + \n",
    "                             geom_vline(xintercept = actual.estimate, color = 'red') +\n",
    "theme(axis.title.x = element_text(size = 16), \n",
    "      axis.text.x = element_text(size = 16), \n",
    "      axis.text.y = element_text(size = 16))"
   ]
  },
  {
   "cell_type": "code",
   "execution_count": 12,
   "metadata": {},
   "outputs": [
    {
     "data": {
      "image/png": "[encoded data removed]",
      "text/plain": [
       "plot without title"
      ]
     },
     "metadata": {
      "image/png": {
       "height": 420,
       "width": 420
      }
     },
     "output_type": "display_data"
    }
   ],
   "source": [
    "qplot(simulations.20000, binwidth = .025) + \n",
    "                             geom_vline(xintercept = actual.estimate, color = 'red') +\n",
    "geom_vline(xintercept = -1*actual.estimate, color = \"red\") +\n",
    "theme(axis.title.x = element_text(size = 16), \n",
    "      axis.text.x = element_text(size = 16), \n",
    "      axis.text.y = element_text(size = 16))"
   ]
  },
  {
   "cell_type": "code",
   "execution_count": 13,
   "metadata": {},
   "outputs": [
    {
     "data": {
      "text/html": [
       "0.0749"
      ],
      "text/latex": [
       "0.0749"
      ],
      "text/markdown": [
       "0.0749"
      ],
      "text/plain": [
       "[1] 0.0749"
      ]
     },
     "metadata": {},
     "output_type": "display_data"
    }
   ],
   "source": [
    "sum(ifelse(simulations.20000 >= actual.estimate, 1, 0))/20000"
   ]
  },
  {
   "cell_type": "code",
   "execution_count": 17,
   "metadata": {},
   "outputs": [
    {
     "data": {
      "text/html": [
       "0.12275"
      ],
      "text/latex": [
       "0.12275"
      ],
      "text/markdown": [
       "0.12275"
      ],
      "text/plain": [
       "[1] 0.12275"
      ]
     },
     "metadata": {},
     "output_type": "display_data"
    }
   ],
   "source": [
    "sum(ifelse(simulations.20000 >= actual.estimate | \n",
    "           simulations.20000 <= -1*actual.estimate, 1, 0))/20000"
   ]
  },
  {
   "cell_type": "code",
   "execution_count": null,
   "metadata": {},
   "outputs": [],
   "source": [
    "# Write your code here"
   ]
  },
  {
   "cell_type": "code",
   "execution_count": null,
   "metadata": {},
   "outputs": [],
   "source": [
    "# Write your code here"
   ]
  },
  {
   "cell_type": "code",
   "execution_count": null,
   "metadata": {},
   "outputs": [],
   "source": [
    "# Write your code here"
   ]
  }
 ],
 "metadata": {
  "kernelspec": {
   "display_name": "R",
   "language": "R",
   "name": "ir"
  },
  "language_info": {
   "codemirror_mode": "r",
   "file_extension": ".r",
   "mimetype": "text/x-r-source",
   "name": "R",
   "pygments_lexer": "r",
   "version": "4.0.5"
  },
  "latex_envs": {
   "LaTeX_envs_menu_present": true,
   "autoclose": false,
   "autocomplete": true,
   "bibliofile": "biblio.bib",
   "cite_by": "apalike",
   "current_citInitial": 1,
   "eqLabelWithNumbers": true,
   "eqNumInitial": 1,
   "hotkeys": {
    "equation": "Ctrl-E",
    "itemize": "Ctrl-I"
   },
   "labels_anchors": false,
   "latex_user_defs": false,
   "report_style_numbering": false,
   "user_envs_cfg": false
  }
 },
 "nbformat": 4,
 "nbformat_minor": 2
}
