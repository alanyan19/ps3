{
 "cells": [
  {
   "cell_type": "markdown",
   "id": "b1001354",
   "metadata": {},
   "source": [
    "# POLSCI 3 Fall 2021\n",
    "\n",
    "## Week 11, Lecture Notebook 2: Analyzing experiments with multivariate regression"
   ]
  },
  {
   "cell_type": "code",
   "execution_count": 1,
   "id": "e752295f",
   "metadata": {
    "scrolled": false
   },
   "outputs": [
    {
     "data": {
      "text/html": [
       "<table class=\"dataframe\">\n",
       "<caption>A data.frame: 6 × 4</caption>\n",
       "<thead>\n",
       "\t<tr><th></th><th scope=col>anyhelp</th><th scope=col>genderatt</th><th scope=col>bystander</th><th scope=col>femprop</th></tr>\n",
       "\t<tr><th></th><th scope=col>&lt;int&gt;</th><th scope=col>&lt;chr&gt;</th><th scope=col>&lt;int&gt;</th><th scope=col>&lt;dbl&gt;</th></tr>\n",
       "</thead>\n",
       "<tbody>\n",
       "\t<tr><th scope=row>1</th><td>1</td><td>Progressive </td><td>3</td><td>0.6666667</td></tr>\n",
       "\t<tr><th scope=row>2</th><td>1</td><td>Neutral     </td><td>2</td><td>0.5000000</td></tr>\n",
       "\t<tr><th scope=row>3</th><td>0</td><td>Neutral     </td><td>2</td><td>0.5000000</td></tr>\n",
       "\t<tr><th scope=row>4</th><td>1</td><td>Conservative</td><td>1</td><td>1.0000000</td></tr>\n",
       "\t<tr><th scope=row>5</th><td>1</td><td>Progressive </td><td>3</td><td>0.3333333</td></tr>\n",
       "\t<tr><th scope=row>6</th><td>1</td><td>Progressive </td><td>2</td><td>1.0000000</td></tr>\n",
       "</tbody>\n",
       "</table>\n"
      ],
      "text/latex": [
       "A data.frame: 6 × 4\n",
       "\\begin{tabular}{r|llll}\n",
       "  & anyhelp & genderatt & bystander & femprop\\\\\n",
       "  & <int> & <chr> & <int> & <dbl>\\\\\n",
       "\\hline\n",
       "\t1 & 1 & Progressive  & 3 & 0.6666667\\\\\n",
       "\t2 & 1 & Neutral      & 2 & 0.5000000\\\\\n",
       "\t3 & 0 & Neutral      & 2 & 0.5000000\\\\\n",
       "\t4 & 1 & Conservative & 1 & 1.0000000\\\\\n",
       "\t5 & 1 & Progressive  & 3 & 0.3333333\\\\\n",
       "\t6 & 1 & Progressive  & 2 & 1.0000000\\\\\n",
       "\\end{tabular}\n"
      ],
      "text/markdown": [
       "\n",
       "A data.frame: 6 × 4\n",
       "\n",
       "| <!--/--> | anyhelp &lt;int&gt; | genderatt &lt;chr&gt; | bystander &lt;int&gt; | femprop &lt;dbl&gt; |\n",
       "|---|---|---|---|---|\n",
       "| 1 | 1 | Progressive  | 3 | 0.6666667 |\n",
       "| 2 | 1 | Neutral      | 2 | 0.5000000 |\n",
       "| 3 | 0 | Neutral      | 2 | 0.5000000 |\n",
       "| 4 | 1 | Conservative | 1 | 1.0000000 |\n",
       "| 5 | 1 | Progressive  | 3 | 0.3333333 |\n",
       "| 6 | 1 | Progressive  | 2 | 1.0000000 |\n",
       "\n"
      ],
      "text/plain": [
       "  anyhelp genderatt    bystander femprop  \n",
       "1 1       Progressive  3         0.6666667\n",
       "2 1       Neutral      2         0.5000000\n",
       "3 0       Neutral      2         0.5000000\n",
       "4 1       Conservative 1         1.0000000\n",
       "5 1       Progressive  3         0.3333333\n",
       "6 1       Progressive  2         1.0000000"
      ]
     },
     "metadata": {},
     "output_type": "display_data"
    }
   ],
   "source": [
    "library(estimatr)\n",
    "\n",
    "data <- read.csv(\"ps3_phonecall_clean_lecture.csv\")\n",
    "head(data)"
   ]
  },
  {
   "cell_type": "markdown",
   "id": "60fec234",
   "metadata": {},
   "source": [
    "Each row in the dataset is one interaction where a person dropped their lemons at a German bus stop after talking on the phone.\n",
    "\n",
    "Here is a quick rundown of what each column means:\n",
    "\n",
    "- `anyhelp`: outcome: whether any bystander offered help\n",
    "- `genderatt`: \"progresive, regressive, or neutral gender attitude (Progressive, Neutral, Regressive)\n",
    "- `bystander`: number of bystanders \n",
    "- `femprop`: proportion of female bystanders"
   ]
  },
  {
   "cell_type": "code",
   "execution_count": 2,
   "id": "38695353",
   "metadata": {},
   "outputs": [
    {
     "data": {
      "text/plain": [
       "Design:  Standard \n",
       "                       Estimate Std. Error  t value  Pr(>|t|)    CI Lower\n",
       "genderattProgressive 0.03637118 0.02579034 1.410264 0.1587182 -0.01422744\n",
       "                       CI Upper       DF\n",
       "genderattProgressive 0.08696979 1212.972"
      ]
     },
     "metadata": {},
     "output_type": "display_data"
    },
    {
     "data": {
      "text/plain": [
       "Design:  Standard \n",
       "                   Estimate Std. Error  t value  Pr(>|t|)     CI Lower\n",
       "genderattNeutral 0.03812826  0.0231746 1.645261 0.1001634 -0.007336428\n",
       "                   CI Upper       DF\n",
       "genderattNeutral 0.08359295 1270.754"
      ]
     },
     "metadata": {},
     "output_type": "display_data"
    }
   ],
   "source": [
    "# What's the effect of revealed gender atttidues on whether bystanders help? \n",
    "# Compare progressive to conservative and neutral to conservative.\n",
    "# Analyze the experiment using difference_in_means and no controls.\n",
    "difference_in_means.progressive <- difference_in_means(anyhelp ~ genderatt, \n",
    "                                                      data = data,\n",
    "                                                      condition1 = \"Conservative\",\n",
    "                                                      condition2 = \"Progressive\")\n",
    "difference_in_means.progressive\n",
    "\n",
    "difference_in_means.neutral <- difference_in_means(anyhelp ~ genderatt, \n",
    "                                                      data = data,\n",
    "                                                      condition1 = \"Conservative\",\n",
    "                                                      condition2 = \"Neutral\")\n",
    "difference_in_means.neutral\n"
   ]
  },
  {
   "cell_type": "code",
   "execution_count": 3,
   "id": "fd89f765",
   "metadata": {},
   "outputs": [
    {
     "data": {
      "text/plain": [
       "\n",
       "Call:\n",
       "lm(formula = anyhelp ~ genderatt, data = data)\n",
       "\n",
       "Residuals:\n",
       "    Min      1Q  Median      3Q     Max \n",
       "-0.7388 -0.7006  0.2612  0.2630  0.2994 \n",
       "\n",
       "Coefficients:\n",
       "                     Estimate Std. Error t value Pr(>|t|)    \n",
       "(Intercept)           0.70065    0.01791  39.124   <2e-16 ***\n",
       "genderattNeutral      0.03813    0.02287   1.667   0.0956 .  \n",
       "genderattProgressive  0.03637    0.02555   1.424   0.1547    \n",
       "---\n",
       "Signif. codes:  0 ‘***’ 0.001 ‘**’ 0.01 ‘*’ 0.05 ‘.’ 0.1 ‘ ’ 1\n",
       "\n",
       "Residual standard error: 0.4452 on 2192 degrees of freedom\n",
       "Multiple R-squared:  0.001435,\tAdjusted R-squared:  0.0005238 \n",
       "F-statistic: 1.575 on 2 and 2192 DF,  p-value: 0.2073\n"
      ]
     },
     "metadata": {},
     "output_type": "display_data"
    }
   ],
   "source": [
    "# Now, let's use the lm function to find the experimental effects.\n",
    "lm.output <- summary(lm(anyhelp ~ genderatt, data))\n",
    "lm.output"
   ]
  },
  {
   "cell_type": "code",
   "execution_count": 4,
   "id": "63152bc8",
   "metadata": {},
   "outputs": [
    {
     "data": {
      "text/plain": [
       "\n",
       "Call:\n",
       "lm(formula = anyhelp ~ genderatt + bystander + femprop, data = data)\n",
       "\n",
       "Residuals:\n",
       "    Min      1Q  Median      3Q     Max \n",
       "-0.7575 -0.6850  0.2603  0.2787  0.3485 \n",
       "\n",
       "Coefficients:\n",
       "                       Estimate Std. Error t value Pr(>|t|)    \n",
       "(Intercept)           0.7172187  0.0287499  24.947   <2e-16 ***\n",
       "genderattNeutral      0.0381300  0.0228971   1.665    0.096 .  \n",
       "genderattProgressive  0.0363211  0.0255780   1.420    0.156    \n",
       "bystander             0.0004274  0.0092799   0.046    0.963    \n",
       "femprop              -0.0330562  0.0242357  -1.364    0.173    \n",
       "---\n",
       "Signif. codes:  0 ‘***’ 0.001 ‘**’ 0.01 ‘*’ 0.05 ‘.’ 0.1 ‘ ’ 1\n",
       "\n",
       "Residual standard error: 0.4452 on 2190 degrees of freedom\n",
       "Multiple R-squared:  0.002283,\tAdjusted R-squared:  0.0004603 \n",
       "F-statistic: 1.253 on 4 and 2190 DF,  p-value: 0.2866\n"
      ]
     },
     "metadata": {},
     "output_type": "display_data"
    }
   ],
   "source": [
    "# Add bystander and femprop as controls to the regression\n",
    "lm.output.controls  <- summary(lm(anyhelp ~ genderatt + bystander + femprop, data))\n",
    "lm.output.controls"
   ]
  },
  {
   "cell_type": "code",
   "execution_count": null,
   "id": "81e659e6",
   "metadata": {},
   "outputs": [],
   "source": [
    "# WRITE YOUR CODE HERE"
   ]
  },
  {
   "cell_type": "code",
   "execution_count": null,
   "id": "74e4b940",
   "metadata": {},
   "outputs": [],
   "source": [
    "# WRITE YOUR CODE HERE"
   ]
  },
  {
   "cell_type": "code",
   "execution_count": null,
   "id": "3ae36a70",
   "metadata": {},
   "outputs": [],
   "source": [
    "# WRITE YOUR CODE HERE"
   ]
  },
  {
   "cell_type": "code",
   "execution_count": null,
   "id": "0690dade",
   "metadata": {},
   "outputs": [],
   "source": [
    "# WRITE YOUR CODE HERE"
   ]
  },
  {
   "cell_type": "code",
   "execution_count": null,
   "id": "a9b7945b",
   "metadata": {},
   "outputs": [],
   "source": [
    "# WRITE YOUR CODE HERE"
   ]
  },
  {
   "cell_type": "code",
   "execution_count": null,
   "id": "b45cce13",
   "metadata": {},
   "outputs": [],
   "source": [
    "# WRITE YOUR CODE HERE"
   ]
  },
  {
   "cell_type": "code",
   "execution_count": null,
   "id": "e3d46456",
   "metadata": {},
   "outputs": [],
   "source": [
    "# WRITE YOUR CODE HERE"
   ]
  }
 ],
 "metadata": {
  "kernelspec": {
   "display_name": "R",
   "language": "R",
   "name": "ir"
  },
  "language_info": {
   "codemirror_mode": "r",
   "file_extension": ".r",
   "mimetype": "text/x-r-source",
   "name": "R",
   "pygments_lexer": "r",
   "version": "4.0.5"
  },
  "latex_envs": {
   "LaTeX_envs_menu_present": true,
   "autoclose": false,
   "autocomplete": true,
   "bibliofile": "biblio.bib",
   "cite_by": "apalike",
   "current_citInitial": 1,
   "eqLabelWithNumbers": true,
   "eqNumInitial": 1,
   "hotkeys": {
    "equation": "Ctrl-E",
    "itemize": "Ctrl-I"
   },
   "labels_anchors": false,
   "latex_user_defs": false,
   "report_style_numbering": false,
   "user_envs_cfg": false
  }
 },
 "nbformat": 4,
 "nbformat_minor": 5
}
